{
 "cells": [
  {
   "cell_type": "markdown",
   "metadata": {},
   "source": [
    "# 2. domača naloga"
   ]
  },
  {
   "cell_type": "code",
   "execution_count": 2,
   "metadata": {},
   "outputs": [],
   "source": [
    "import pandas as pd"
   ]
  },
  {
   "cell_type": "markdown",
   "metadata": {},
   "source": [
    "## 1.naloga"
   ]
  },
  {
   "cell_type": "code",
   "execution_count": 6,
   "metadata": {},
   "outputs": [
    {
     "data": {
      "text/html": [
       "<div>\n",
       "<style scoped>\n",
       "    .dataframe tbody tr th:only-of-type {\n",
       "        vertical-align: middle;\n",
       "    }\n",
       "\n",
       "    .dataframe tbody tr th {\n",
       "        vertical-align: top;\n",
       "    }\n",
       "\n",
       "    .dataframe thead th {\n",
       "        text-align: right;\n",
       "    }\n",
       "</style>\n",
       "<table border=\"1\" class=\"dataframe\">\n",
       "  <thead>\n",
       "    <tr style=\"text-align: right;\">\n",
       "      <th></th>\n",
       "      <th>naslov</th>\n",
       "      <th>leto</th>\n",
       "      <th>oskar</th>\n",
       "      <th>stevilo</th>\n",
       "    </tr>\n",
       "  </thead>\n",
       "  <tbody>\n",
       "    <tr>\n",
       "      <th>0</th>\n",
       "      <td>12 Years a Slave</td>\n",
       "      <td>2013</td>\n",
       "      <td>False</td>\n",
       "      <td>6</td>\n",
       "    </tr>\n",
       "    <tr>\n",
       "      <th>1</th>\n",
       "      <td>12 Years a Slave</td>\n",
       "      <td>2013</td>\n",
       "      <td>True</td>\n",
       "      <td>3</td>\n",
       "    </tr>\n",
       "    <tr>\n",
       "      <th>2</th>\n",
       "      <td>1917</td>\n",
       "      <td>2019</td>\n",
       "      <td>False</td>\n",
       "      <td>7</td>\n",
       "    </tr>\n",
       "    <tr>\n",
       "      <th>3</th>\n",
       "      <td>1917</td>\n",
       "      <td>2019</td>\n",
       "      <td>True</td>\n",
       "      <td>3</td>\n",
       "    </tr>\n",
       "    <tr>\n",
       "      <th>4</th>\n",
       "      <td>20 Days in Mariupol</td>\n",
       "      <td>2023</td>\n",
       "      <td>False</td>\n",
       "      <td>0</td>\n",
       "    </tr>\n",
       "    <tr>\n",
       "      <th>...</th>\n",
       "      <td>...</td>\n",
       "      <td>...</td>\n",
       "      <td>...</td>\n",
       "      <td>...</td>\n",
       "    </tr>\n",
       "    <tr>\n",
       "      <th>2713</th>\n",
       "      <td>Zootopia</td>\n",
       "      <td>2016</td>\n",
       "      <td>True</td>\n",
       "      <td>1</td>\n",
       "    </tr>\n",
       "    <tr>\n",
       "      <th>2714</th>\n",
       "      <td>Zorba the Greek</td>\n",
       "      <td>1964</td>\n",
       "      <td>False</td>\n",
       "      <td>4</td>\n",
       "    </tr>\n",
       "    <tr>\n",
       "      <th>2715</th>\n",
       "      <td>Zorba the Greek</td>\n",
       "      <td>1964</td>\n",
       "      <td>True</td>\n",
       "      <td>3</td>\n",
       "    </tr>\n",
       "    <tr>\n",
       "      <th>2716</th>\n",
       "      <td>tom thumb</td>\n",
       "      <td>1958</td>\n",
       "      <td>False</td>\n",
       "      <td>0</td>\n",
       "    </tr>\n",
       "    <tr>\n",
       "      <th>2717</th>\n",
       "      <td>tom thumb</td>\n",
       "      <td>1958</td>\n",
       "      <td>True</td>\n",
       "      <td>1</td>\n",
       "    </tr>\n",
       "  </tbody>\n",
       "</table>\n",
       "<p>2718 rows × 4 columns</p>\n",
       "</div>"
      ],
      "text/plain": [
       "                   naslov  leto  oskar  stevilo\n",
       "0        12 Years a Slave  2013  False        6\n",
       "1        12 Years a Slave  2013   True        3\n",
       "2                    1917  2019  False        7\n",
       "3                    1917  2019   True        3\n",
       "4     20 Days in Mariupol  2023  False        0\n",
       "...                   ...   ...    ...      ...\n",
       "2713             Zootopia  2016   True        1\n",
       "2714      Zorba the Greek  1964  False        4\n",
       "2715      Zorba the Greek  1964   True        3\n",
       "2716            tom thumb  1958  False        0\n",
       "2717            tom thumb  1958   True        1\n",
       "\n",
       "[2718 rows x 4 columns]"
      ]
     },
     "execution_count": 6,
     "metadata": {},
     "output_type": "execute_result"
    }
   ],
   "source": [
    "filmi = pd.read_csv('filmi.csv')\n",
    "filmi"
   ]
  },
  {
   "cell_type": "markdown",
   "metadata": {},
   "source": [
    "(a) Kateri film (oz.filmi, če jih je več) je prejel največ nominacij ter koliko?"
   ]
  },
  {
   "cell_type": "code",
   "execution_count": 54,
   "metadata": {},
   "outputs": [
    {
     "name": "stdout",
     "output_type": "stream",
     "text": [
      "            naslov  stevilo\n",
      "40  A Star Is Born       19\n"
     ]
    }
   ],
   "source": [
    "zdruzeno_po_filmih = filmi.groupby('naslov')['stevilo'].sum()\n",
    "najvec = max(zdruzeno_po_filmih)\n",
    "zdruzeno_po_filmih = zdruzeno_po_filmih.reset_index()\n",
    "odgovor1a = zdruzeno_po_filmih[zdruzeno_po_filmih['stevilo']==najvec]\n",
    "print(odgovor1a)"
   ]
  },
  {
   "cell_type": "markdown",
   "metadata": {},
   "source": [
    "(b) Število filmov, ki so bili nominirani vsaj trikrat in so osvojili oskarja za vsaj polovico nominacij."
   ]
  },
  {
   "cell_type": "code",
   "execution_count": 8,
   "metadata": {},
   "outputs": [
    {
     "name": "stdout",
     "output_type": "stream",
     "text": [
      "150\n"
     ]
    }
   ],
   "source": [
    "zdruzeni_po_filmih = filmi.groupby('naslov')\n",
    "ustrezni_filmi = zdruzeni_po_filmih.filter(lambda group: (group['stevilo'].sum()>=3 and group.loc[group['oskar']==True,'stevilo'].sum()>=0.5*group['stevilo'].sum()))\n",
    "odgovor1b = len(ustrezni_filmi['naslov'].unique())\n",
    "print(odgovor1b)"
   ]
  },
  {
   "cell_type": "markdown",
   "metadata": {},
   "source": [
    "Desetletje in stoletje, v katerem je bilo nagrajenih največ različnih filmov ter koliko."
   ]
  },
  {
   "cell_type": "code",
   "execution_count": 9,
   "metadata": {},
   "outputs": [
    {
     "name": "stdout",
     "output_type": "stream",
     "text": [
      "Največ filmov nagrajenih v desetletju: V 195 desetletju, in sicer 174\n",
      "Največ filmov nagrajenih v stoletju: V 20 stoletju, in sicer 1000\n"
     ]
    }
   ],
   "source": [
    "filmi['desetletje'] = (filmi['leto']//10 + 1) # Npr. 1985 → 1980\n",
    "filmi['stoletje'] = (filmi['leto'] // 100) + 1 # Npr. 1985 → 20. stoletje\n",
    "# Skupno število unikatnih filmov po desetletjih\n",
    "# Obdelujemo le filme, ki so bili nagrajeni z oskarjem (vsebuje True)\n",
    "# Združimo jih po desetletju\n",
    "# Za vsako desetletje preštejemo št različnih filmov nagrajenih v tem desetletju\n",
    "desetletje_counts = filmi[filmi['oskar']].groupby('desetletje')['naslov'].nunique()\n",
    "# Skupno število unikatnih filmov po stoletjih\n",
    "# Enako kot prej, le da po stoletjih\n",
    "stoletje_counts = filmi[filmi['oskar']].groupby('stoletje')['naslov'].nunique()\n",
    "# Največje število filmov po desetletjih in stoletjih\n",
    "najvecje_desetletje = desetletje_counts.idxmax(), desetletje_counts.max()\n",
    "najvecje_stoletje = stoletje_counts.idxmax(), stoletje_counts.max()\n",
    "print(f\"Največ filmov nagrajenih v desetletju: V {najvecje_desetletje[0]} desetletju, in sicer {najvecje_desetletje[1]}\")\n",
    "print(f\"Največ filmov nagrajenih v stoletju: V {najvecje_stoletje[0]} stoletju, in sicer {najvecje_stoletje[1]}\")"
   ]
  },
  {
   "cell_type": "markdown",
   "metadata": {},
   "source": [
    "Nekateri naslovi filmov se ponavljajo. Kateri izmed filmov, katerih naslovi se ponovijo natanko dvakrat, imajo tudi enako število prejetih oskarjev?"
   ]
  },
  {
   "cell_type": "code",
   "execution_count": 22,
   "metadata": {},
   "outputs": [
    {
     "data": {
      "text/plain": [
       "63      All Quiet on the Western Front\n",
       "233                          Cleopatra\n",
       "263                 Cyrano de Bergerac\n",
       "434                            Henry V\n",
       "516                          King Kong\n",
       "986                            The Fly\n",
       "1010                  The Great Gatsby\n",
       "1098           The Old Man and the Sea\n",
       "1231                           Titanic\n",
       "1270                                Up\n",
       "1291                   West Side Story\n",
       "Name: naslov, dtype: object"
      ]
     },
     "execution_count": 22,
     "metadata": {},
     "output_type": "execute_result"
    }
   ],
   "source": [
    "# 1. Filtriramo samo vrstice, kjer je 'oskar' True\n",
    "df_filtered = filmi[filmi['oskar'] == True]\n",
    "\n",
    "# 2. Združimo po naslovu filma, izračunamo število oskarjev za vsak film in število pojavitev\n",
    "df_grouped = (\n",
    "    df_filtered.groupby('naslov')\n",
    "    .agg(oskar_sum=('oskar', 'sum'), num_occurences=('naslov', 'size'))\n",
    "    .reset_index()\n",
    ")\n",
    "\n",
    "# 3. Preverimo, kateri filmi se pojavijo natanko 2-krat\n",
    "df_grouped = df_grouped[df_grouped['num_occurences'] == 2]\n",
    "\n",
    "# 4. Preverimo, kateri filmi imajo enako število prejetih oskarjev za obe vrstici\n",
    "# Če so oskar_sum vrednosti za film enake, potem je število oskarjev enako\n",
    "odgovor1d = df_grouped[df_grouped['oskar_sum'].duplicated(keep=False)]\n",
    "odgovor1d['naslov']"
   ]
  },
  {
   "cell_type": "markdown",
   "metadata": {},
   "source": [
    "## 2. naloga"
   ]
  },
  {
   "cell_type": "code",
   "execution_count": 3,
   "metadata": {},
   "outputs": [],
   "source": [
    "tuji_filmi = pd.read_csv('tuji_filmi.csv')\n",
    "populacija = pd.read_csv('populacija.csv')"
   ]
  },
  {
   "cell_type": "markdown",
   "metadata": {},
   "source": [
    "(a)  Število vseh nominacij in število vseh dobljenih oskarjev (tudi oskar za najboljši mednarodni celovečerni film) glede na leto za države iz tabele tuji filmi z izjemo ZDA. Rezultat predstavi s tabelo, ki ima štiri stolpce: drzava, leto, st nominacij in st oskarjev. Tabelo shrani v datoteko tabela2a.csv.\n",
    "Namig: v tabeli filmi so upoštevani vsi oskarji, v tabeli tuji filmi pa vsi, razen oskarja za najboljši mednarodni celovečerni film."
   ]
  },
  {
   "cell_type": "code",
   "execution_count": 12,
   "metadata": {},
   "outputs": [],
   "source": [
    "# Filtriramo tuje filme brez ZDA\n",
    "tuji_filmi = tuji_filmi[tuji_filmi[\"drzava\"] != \"ZDA\"]\n",
    "\n",
    "# Združimo tabele tuji_filmi in filmi (glede na naslov filma in leto)\n",
    "zdruzeno = pd.merge(\n",
    "    tuji_filmi,\n",
    "    filmi,\n",
    "    left_on=[\"naslov_nom\", \"leto\"],\n",
    "    right_on=[\"naslov\", \"leto\"],\n",
    "    how=\"left\"\n",
    ")\n",
    "\n",
    "# Preverimo, ali je bil oskar dobljen (če je kategorija prisotna v tabeli `filmi`)\n",
    "zdruzeno[\"oskar_dobljen\"] = zdruzeno[\"kategorija\"].notna()\n",
    "\n",
    "# Štetje nominacij glede na državo in leto\n",
    "nominacije = (\n",
    "    tuji_filmi.groupby([\"drzava\", \"leto\"])\n",
    "    .size()\n",
    "    .reset_index(name=\"st_nominacij\")\n",
    ")\n",
    "\n",
    "# Štetje dobljenih oskarjev glede na državo in leto\n",
    "oskarji = (\n",
    "    zdruzeno[zdruzeno[\"oskar_dobljen\"] == True]\n",
    "    .groupby([\"drzava\", \"leto\"])\n",
    "    .size()\n",
    "    .reset_index(name=\"st_oskarjev\")\n",
    ")\n",
    "\n",
    "# Združimo podatke o nominacijah in oskarjih\n",
    "rezultat = pd.merge(nominacije, oskarji, on=[\"drzava\", \"leto\"], how=\"left\")\n",
    "rezultat[\"st_oskarjev\"] = rezultat[\"st_oskarjev\"].fillna(0).astype(int)\n",
    "\n",
    "# Shrani rezultat v CSV datoteko\n",
    "rezultat.to_csv(\"tabela2a.csv\", index=False)\n"
   ]
  },
  {
   "cell_type": "markdown",
   "metadata": {},
   "source": [
    "(b) Največ koliko nominacij je prejela država na eni podelitvi? Rezultat shrani v spremenljivko odgovor2b"
   ]
  },
  {
   "cell_type": "code",
   "execution_count": 14,
   "metadata": {},
   "outputs": [
    {
     "name": "stdout",
     "output_type": "stream",
     "text": [
      "12\n"
     ]
    }
   ],
   "source": [
    "# Združimo podatke glede na državo in leto ter preštejemo nominacije\n",
    "nominacije = (tuji_filmi.groupby([\"drzava\", \"leto\"]).size().reset_index(name=\"st_nominacij\"))\n",
    "\n",
    "# Poiščemo največje število nominacij na eni podelitvi\n",
    "odgovor2b = nominacije[\"st_nominacij\"].max()\n",
    "print(odgovor2b)"
   ]
  },
  {
   "cell_type": "markdown",
   "metadata": {},
   "source": [
    "(c) Največ koliko oskarjev je prejela država na eni podelitvi? Rezultat shrani v spremenljivko odgovor2c."
   ]
  },
  {
   "cell_type": "code",
   "execution_count": 16,
   "metadata": {},
   "outputs": [
    {
     "name": "stdout",
     "output_type": "stream",
     "text": [
      "12\n"
     ]
    }
   ],
   "source": [
    "\n",
    "# Združimo tabele tuji_filmi in filmi (glede na naslov filma in leto)\n",
    "zdruzeno = pd.merge(\n",
    "    tuji_filmi,\n",
    "    filmi,\n",
    "    left_on=[\"naslov_nom\", \"leto\"],\n",
    "    right_on=[\"naslov\", \"leto\"],\n",
    "    how=\"left\"\n",
    ")\n",
    "\n",
    "# Filtriramo oskarje (film mora imeti kategorijo, kar pomeni, da je dobil oskarja)\n",
    "dobljeni_oskarji = zdruzeno[zdruzeno[\"kategorija\"].notna()]\n",
    "\n",
    "# Združimo dobljene oskarje po državi in letu ter jih preštejemo\n",
    "oskarji_stevilo = (\n",
    "    dobljeni_oskarji.groupby([\"drzava\", \"leto\"])\n",
    "    .size()\n",
    "    .reset_index(name=\"st_oskarjev\")\n",
    ")\n",
    "\n",
    "# Poiščemo največje število oskarjev na eni podelitvi\n",
    "odgovor2c = oskarji_stevilo[\"st_oskarjev\"].max()\n",
    "print(odgovor2c)"
   ]
  },
  {
   "cell_type": "markdown",
   "metadata": {},
   "source": [
    "(d)  Kateri film je prejel oskarje iz prejšnje točke? Rezultat shrani v spremenljivko odgovor2d"
   ]
  },
  {
   "cell_type": "code",
   "execution_count": 17,
   "metadata": {},
   "outputs": [
    {
     "name": "stdout",
     "output_type": "stream",
     "text": [
      "['All Quiet on the Western Front' 'Fanny and Alexander'\n",
      " 'Life Is Beautiful']\n"
     ]
    }
   ],
   "source": [
    "# Filtriramo države in leta, kjer so oskarji dosegli največje število\n",
    "maksimalni_oskarji = oskarji_stevilo[oskarji_stevilo[\"st_oskarjev\"] == odgovor2c]\n",
    "\n",
    "# Poiščemo naslove filmov z največ oskarji\n",
    "filmi_z_max_oskarji = zdruzeno[\n",
    "    (zdruzeno[\"drzava\"].isin(maksimalni_oskarji[\"drzava\"])) &\n",
    "    (zdruzeno[\"leto\"].isin(maksimalni_oskarji[\"leto\"]))\n",
    "]\n",
    "\n",
    "# Izluščimo unikatne naslove filmov, ki ustrezajo pogojem\n",
    "odgovor2d = filmi_z_max_oskarji[\"naslov_nom\"].unique()\n",
    "\n",
    "print(odgovor2d)"
   ]
  },
  {
   "cell_type": "markdown",
   "metadata": {},
   "source": [
    "(e)  Za države iz tabele tuji filmi z izjemo ZDA izračunaj delež uspešnih nominacij (nominacija je uspešna, če film prejme oskarja). Rezultat predstavi s tabelo, ki ima dva stolpca: drzava in delez. Tabelo shrani v datoteko tabela2e.csv. Katera država ima najmanjši delež uspešnih nominacij? Rezultat shrani v spremenljivko odgovor2e."
   ]
  },
  {
   "cell_type": "code",
   "execution_count": 36,
   "metadata": {},
   "outputs": [
    {
     "name": "stdout",
     "output_type": "stream",
     "text": [
      "Czech Republic\n"
     ]
    }
   ],
   "source": [
    "# Združimo tabelo 'tuji_filmi' s tabelo 'filmi' glede na 'naslov_nom' in 'leto'\n",
    "novi_tuji_filmi = tuji_filmi.merge(\n",
    "    filmi[['naslov', 'leto', 'oskar']],  # Uporabimo pravilne stolpce iz tabele 'filmi'\n",
    "    left_on=['naslov_nom', 'leto'],  # Uporabimo ustrezne stolpce za združevanje\n",
    "    right_on=['naslov', 'leto'],\n",
    "    how='left',  # Ohranimo vse vrstice iz 'tuji_filmi'\n",
    "    suffixes=('_tuji', '_filmi')  # Dodamo različne končnice za stolpce, ki se ponavljajo\n",
    ")\n",
    "\n",
    "# Odstranimo vrstice za ZDA\n",
    "novi_tuji_filmi = novi_tuji_filmi[novi_tuji_filmi['drzava'] != 'ZDA']\n",
    "\n",
    "# Dodamo stolpec 'oskar', ki označuje uspešne nominacije\n",
    "novi_tuji_filmi['oskar'] = novi_tuji_filmi['oskar_filmi'] == True\n",
    "\n",
    "# Izračunamo število nominacij in oskarjev za vsako državo\n",
    "agg_data = novi_tuji_filmi.groupby('drzava').agg(\n",
    "    nominacije=('naslov_nom', 'count'),  # Število nominacij za vsako državo\n",
    "    oskarji=('oskar', 'sum')  # Število oskarjev (True pomeni uspešno nominacijo)\n",
    ").reset_index()\n",
    "\n",
    "# Izračunamo delež uspešnih nominacij\n",
    "agg_data['delez'] = agg_data['oskarji'] / agg_data['nominacije']\n",
    "\n",
    "# Rezultate shranimo v CSV datoteko\n",
    "agg_data[['drzava', 'delez']].to_csv(\"tabela2e.csv\", index=False)\n",
    "\n",
    "# Poiščemo državo z najmanjšim deležem uspešnih nominacij\n",
    "najmanjsi_delez = agg_data.loc[agg_data['delez'].idxmin()]\n",
    "odgovor2e = najmanjsi_delez['drzava']\n",
    "\n",
    "# Izpišemo državo z najmanjšim deležem\n",
    "print(odgovor2e)"
   ]
  }
 ],
 "metadata": {
  "kernelspec": {
   "display_name": "venv",
   "language": "python",
   "name": "python3"
  },
  "language_info": {
   "codemirror_mode": {
    "name": "ipython",
    "version": 3
   },
   "file_extension": ".py",
   "mimetype": "text/x-python",
   "name": "python",
   "nbconvert_exporter": "python",
   "pygments_lexer": "ipython3",
   "version": "3.12.2"
  }
 },
 "nbformat": 4,
 "nbformat_minor": 2
}
