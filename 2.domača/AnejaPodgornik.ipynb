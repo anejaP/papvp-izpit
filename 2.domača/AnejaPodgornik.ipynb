{
 "cells": [
  {
   "cell_type": "markdown",
   "metadata": {},
   "source": [
    "# 2. domača naloga"
   ]
  },
  {
   "cell_type": "code",
   "execution_count": 2,
   "metadata": {},
   "outputs": [],
   "source": [
    "import pandas as pd"
   ]
  },
  {
   "cell_type": "markdown",
   "metadata": {},
   "source": [
    "## 1.naloga"
   ]
  },
  {
   "cell_type": "code",
   "execution_count": 6,
   "metadata": {},
   "outputs": [
    {
     "data": {
      "text/html": [
       "<div>\n",
       "<style scoped>\n",
       "    .dataframe tbody tr th:only-of-type {\n",
       "        vertical-align: middle;\n",
       "    }\n",
       "\n",
       "    .dataframe tbody tr th {\n",
       "        vertical-align: top;\n",
       "    }\n",
       "\n",
       "    .dataframe thead th {\n",
       "        text-align: right;\n",
       "    }\n",
       "</style>\n",
       "<table border=\"1\" class=\"dataframe\">\n",
       "  <thead>\n",
       "    <tr style=\"text-align: right;\">\n",
       "      <th></th>\n",
       "      <th>naslov</th>\n",
       "      <th>leto</th>\n",
       "      <th>oskar</th>\n",
       "      <th>stevilo</th>\n",
       "    </tr>\n",
       "  </thead>\n",
       "  <tbody>\n",
       "    <tr>\n",
       "      <th>0</th>\n",
       "      <td>12 Years a Slave</td>\n",
       "      <td>2013</td>\n",
       "      <td>False</td>\n",
       "      <td>6</td>\n",
       "    </tr>\n",
       "    <tr>\n",
       "      <th>1</th>\n",
       "      <td>12 Years a Slave</td>\n",
       "      <td>2013</td>\n",
       "      <td>True</td>\n",
       "      <td>3</td>\n",
       "    </tr>\n",
       "    <tr>\n",
       "      <th>2</th>\n",
       "      <td>1917</td>\n",
       "      <td>2019</td>\n",
       "      <td>False</td>\n",
       "      <td>7</td>\n",
       "    </tr>\n",
       "    <tr>\n",
       "      <th>3</th>\n",
       "      <td>1917</td>\n",
       "      <td>2019</td>\n",
       "      <td>True</td>\n",
       "      <td>3</td>\n",
       "    </tr>\n",
       "    <tr>\n",
       "      <th>4</th>\n",
       "      <td>20 Days in Mariupol</td>\n",
       "      <td>2023</td>\n",
       "      <td>False</td>\n",
       "      <td>0</td>\n",
       "    </tr>\n",
       "    <tr>\n",
       "      <th>...</th>\n",
       "      <td>...</td>\n",
       "      <td>...</td>\n",
       "      <td>...</td>\n",
       "      <td>...</td>\n",
       "    </tr>\n",
       "    <tr>\n",
       "      <th>2713</th>\n",
       "      <td>Zootopia</td>\n",
       "      <td>2016</td>\n",
       "      <td>True</td>\n",
       "      <td>1</td>\n",
       "    </tr>\n",
       "    <tr>\n",
       "      <th>2714</th>\n",
       "      <td>Zorba the Greek</td>\n",
       "      <td>1964</td>\n",
       "      <td>False</td>\n",
       "      <td>4</td>\n",
       "    </tr>\n",
       "    <tr>\n",
       "      <th>2715</th>\n",
       "      <td>Zorba the Greek</td>\n",
       "      <td>1964</td>\n",
       "      <td>True</td>\n",
       "      <td>3</td>\n",
       "    </tr>\n",
       "    <tr>\n",
       "      <th>2716</th>\n",
       "      <td>tom thumb</td>\n",
       "      <td>1958</td>\n",
       "      <td>False</td>\n",
       "      <td>0</td>\n",
       "    </tr>\n",
       "    <tr>\n",
       "      <th>2717</th>\n",
       "      <td>tom thumb</td>\n",
       "      <td>1958</td>\n",
       "      <td>True</td>\n",
       "      <td>1</td>\n",
       "    </tr>\n",
       "  </tbody>\n",
       "</table>\n",
       "<p>2718 rows × 4 columns</p>\n",
       "</div>"
      ],
      "text/plain": [
       "                   naslov  leto  oskar  stevilo\n",
       "0        12 Years a Slave  2013  False        6\n",
       "1        12 Years a Slave  2013   True        3\n",
       "2                    1917  2019  False        7\n",
       "3                    1917  2019   True        3\n",
       "4     20 Days in Mariupol  2023  False        0\n",
       "...                   ...   ...    ...      ...\n",
       "2713             Zootopia  2016   True        1\n",
       "2714      Zorba the Greek  1964  False        4\n",
       "2715      Zorba the Greek  1964   True        3\n",
       "2716            tom thumb  1958  False        0\n",
       "2717            tom thumb  1958   True        1\n",
       "\n",
       "[2718 rows x 4 columns]"
      ]
     },
     "execution_count": 6,
     "metadata": {},
     "output_type": "execute_result"
    }
   ],
   "source": [
    "filmi = pd.read_csv('filmi.csv')\n",
    "filmi"
   ]
  },
  {
   "cell_type": "markdown",
   "metadata": {},
   "source": [
    "(a) Kateri film (oz.filmi, če jih je več) je prejel največ nominacij ter koliko?"
   ]
  },
  {
   "cell_type": "code",
   "execution_count": 14,
   "metadata": {},
   "outputs": [
    {
     "name": "stdout",
     "output_type": "stream",
     "text": [
      "                                          naslov  stevilo\n",
      "0                                         Becket       11\n",
      "1                                        Ben-Hur       11\n",
      "2                                 Johnny Belinda       11\n",
      "3  The Lord of the Rings: The Return of the King       11\n",
      "4                           The Power of the Dog       11\n",
      "5                                        Titanic       11\n"
     ]
    }
   ],
   "source": [
    "max_st_nominacij = max(filmi['stevilo'])\n",
    "odgovor1a = filmi[filmi['stevilo'] == max_st_nominacij][['naslov','stevilo']]\n",
    "odgovor1a = odgovor1a.reset_index(drop=True)\n",
    "print(odgovor1a)"
   ]
  },
  {
   "cell_type": "markdown",
   "metadata": {},
   "source": [
    "(b) Število filmov, ki so bili nominirani vsaj trikrat in so osvojili oskarja za vsaj polovico nominacij."
   ]
  },
  {
   "cell_type": "code",
   "execution_count": 22,
   "metadata": {},
   "outputs": [
    {
     "name": "stdout",
     "output_type": "stream",
     "text": [
      "150\n"
     ]
    }
   ],
   "source": [
    "zdruzeni_po_filmih = filmi.groupby('naslov')\n",
    "ustrezni_filmi = zdruzeni_po_filmih.filter(lambda group: (group['stevilo'].sum()>=3 and group.loc[group['oskar']==True,'stevilo'].sum()>=0.5*group['stevilo'].sum()))\n",
    "odgovor1b = len(ustrezni_filmi['naslov'].unique())\n",
    "print(odgovor1b)"
   ]
  },
  {
   "cell_type": "markdown",
   "metadata": {},
   "source": [
    "Desetletje in stoletje, v katerem je bilo nagrajenih največ različnih filmov ter koliko."
   ]
  },
  {
   "cell_type": "code",
   "execution_count": 27,
   "metadata": {},
   "outputs": [
    {
     "name": "stdout",
     "output_type": "stream",
     "text": [
      "Največ filmov nagrajenih v desetletju: V 195 desetletju, in sicer 174\n",
      "Največ filmov nagrajenih v stoletju: V 20 stoletju, in sicer 1000\n"
     ]
    }
   ],
   "source": [
    "filmi['desetletje'] = (filmi['leto']//10 + 1) # Npr. 1985 → 1980\n",
    "filmi['stoletje'] = (filmi['leto'] // 100) + 1 # Npr. 1985 → 20. stoletje\n",
    "# Skupno število unikatnih filmov po desetletjih\n",
    "# Obdelujemo le filme, ki so bili nagrajeni z oskarjem (vsebuje True)\n",
    "# Združimo jih po desetletju\n",
    "# Za vsako desetletje preštejemo št različnih filmov nagrajenih v tem desetletju\n",
    "desetletje_counts = filmi[filmi['oskar']].groupby('desetletje')['naslov'].nunique()\n",
    "# Skupno število unikatnih filmov po stoletjih\n",
    "# Enako kot prej, le da po stoletjih\n",
    "stoletje_counts = filmi[filmi['oskar']].groupby('stoletje')['naslov'].nunique()\n",
    "# Največje število filmov po desetletjih in stoletjih\n",
    "najvecje_desetletje = desetletje_counts.idxmax(), desetletje_counts.max()\n",
    "najvecje_stoletje = stoletje_counts.idxmax(), stoletje_counts.max()\n",
    "print(f\"Največ filmov nagrajenih v desetletju: V {najvecje_desetletje[0]} desetletju, in sicer {najvecje_desetletje[1]}\")\n",
    "print(f\"Največ filmov nagrajenih v stoletju: V {najvecje_stoletje[0]} stoletju, in sicer {najvecje_stoletje[1]}\")"
   ]
  },
  {
   "cell_type": "markdown",
   "metadata": {},
   "source": [
    "Nekateri naslovi filmov se ponavljajo. Kateri izmed filmov, katerih naslovi se ponovijo natanko dvakrat, imajo tudi enako število prejetih oskarjev?"
   ]
  },
  {
   "cell_type": "code",
   "execution_count": null,
   "metadata": {},
   "outputs": [
    {
     "name": "stdout",
     "output_type": "stream",
     "text": [
      "\n",
      "Filmi, katerih naslovi se ponovijo dvakrat in imajo enako število oskarjev:\n",
      "Empty DataFrame\n",
      "Columns: [naslov, oskar_sum, num_occurences]\n",
      "Index: []\n"
     ]
    }
   ],
   "source": [
    "# 1. Filtrirajmo samo vrstice, kjer je oskar True\n",
    "df_filtered = filmi[filmi['oskar'] == True]\n",
    "\n",
    "# 2. Združimo po naslovu filma, izračunamo število oskarjev za vsak film\n",
    "df_grouped = df_filtered.groupby('naslov').agg(oskar_sum=('oskar', 'sum'), num_occurences=('naslov', 'size')).reset_index()\n",
    "\n",
    "# 3. Preverimo, kateri filmi se pojavijo natanko 2x\n",
    "ponovitve = df_grouped['num_occurences'].value_counts()\n",
    "\n",
    "# 4. Filtriramo zgolj filme, ki se pojavijo natanko dvakrat\n",
    "ponovljeni_filmi = ponovitve[ponovitve == 2].index\n",
    "df_filtrirani_ponovljeni = df_grouped[df_grouped['naslov'].isin(ponovljeni_filmi)]\n",
    "\n",
    "# 5. Preverimo, kateri filmi imajo enako število prejetih Oskarjev\n",
    "# Če je število Oskarjev enako za obe vrstici (True in False), potem bo oskar_sum enak 2\n",
    "odgovor1d = df_filtrirani_ponovljeni.groupby('naslov').filter(lambda x: x['oskar_sum'].nunique() == 1)\n",
    "\n",
    "# 6. Izpiši rezultat\n",
    "print(\"\\nFilmi, katerih naslovi se ponovijo dvakrat in imajo enako število oskarjev:\")\n",
    "print(odgovor1d)"
   ]
  }
 ],
 "metadata": {
  "kernelspec": {
   "display_name": "venv",
   "language": "python",
   "name": "python3"
  },
  "language_info": {
   "codemirror_mode": {
    "name": "ipython",
    "version": 3
   },
   "file_extension": ".py",
   "mimetype": "text/x-python",
   "name": "python",
   "nbconvert_exporter": "python",
   "pygments_lexer": "ipython3",
   "version": "3.12.2"
  }
 },
 "nbformat": 4,
 "nbformat_minor": 2
}
