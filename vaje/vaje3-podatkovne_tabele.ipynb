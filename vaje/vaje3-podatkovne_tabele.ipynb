{
 "cells": [
  {
   "cell_type": "markdown",
   "metadata": {},
   "source": [
    "# Knjižnica pandas - podatkovne tabele (angl. _dataframe_)"
   ]
  },
  {
   "cell_type": "code",
   "execution_count": 1,
   "metadata": {},
   "outputs": [],
   "source": [
    "import pandas as pd\n",
    "import random"
   ]
  },
  {
   "cell_type": "markdown",
   "metadata": {},
   "source": [
    "### Ustvarjanje podatkovnih tabel"
   ]
  },
  {
   "cell_type": "markdown",
   "metadata": {},
   "source": [
    "Sestavi sezname imen in priimkov (vsak element seznama je niz oblike `\"Ime Priimek\"`), starosti in ocen (za vajo lahko starosti in ocene generiraš naključno). V seznamu `imena in priimki` ter `starosti` naj bo po 6 vrednosti, v seznamu `ocene` pa 5.\n",
    "\n",
    "Nato ustvari preprosto podatkovno tabelo, s stolpci `ime in priimek`, `starost`, `ocena`. Zaenkrat podatkovne tipe pustimo pri miru."
   ]
  },
  {
   "cell_type": "code",
   "execution_count": 1,
   "metadata": {},
   "outputs": [],
   "source": [
    "\n",
    "ime_priimek = ['Ana Novak', 'Ula Burger', 'Uroš Zorman', 'Borut Mačkovšek', 'Gal Marguč', 'Miha Zarabec']\n",
    "starosti = [random.randint(1,100) for i in range(6)]\n",
    "ocene = [random.randint(5,10) for i in range(5)]\n",
    "\n",
    "tabela = pd.DataFrame({\"ime in priimek\": pd.Series(ime_priimek), \n",
    "                       \"starosti\": pd.Series(starosti), \n",
    "                       \"ocene\": pd.Series(ocene)})\n",
    "#"
   ]
  },
  {
   "cell_type": "markdown",
   "metadata": {},
   "source": [
    "Izpiši tabelo. Kaj se zgodi z manjkajočo oceno?"
   ]
  },
  {
   "cell_type": "code",
   "execution_count": 2,
   "metadata": {},
   "outputs": [
    {
     "name": "stdout",
     "output_type": "stream",
     "text": [
      "    ime in priimek  starosti  ocene\n",
      "0        Ana Novak        57    6.0\n",
      "1       Ula Burger        59    6.0\n",
      "2      Uroš Zorman         4   10.0\n",
      "3  Borut Mačkovšek        97    8.0\n",
      "4       Gal Marguč        22    8.0\n",
      "5     Miha Zarabec         9    NaN\n"
     ]
    }
   ],
   "source": [
    "print(tabela)"
   ]
  },
  {
   "cell_type": "markdown",
   "metadata": {},
   "source": [
    "### Osnovno delo s podatkovnimi tabelami\n",
    "\n",
    "Izpiši podatke o zgoraj ustvarjeni tabeli (izpis polepšaj tako, da bo pred vsako vrednostjo kratek opis te vrednosti, npr. `Število vrstic: 6`):\n",
    "* število vrstic\n",
    "* število stolpcev\n",
    "* število vseh elementov\n",
    "* imena stolpcev\n",
    "* podatkovne tipe stolpcev (Kakšnih tipov so stolpci? Te je kaj presenetilo?)\n",
    "* imena vrstic\n",
    "* vrednosti v podatkovni tabeli"
   ]
  },
  {
   "cell_type": "code",
   "execution_count": 12,
   "metadata": {},
   "outputs": [
    {
     "name": "stdout",
     "output_type": "stream",
     "text": [
      "Število vrstic: 6\n",
      "Število stolpcev: 3\n",
      "Število vseh elementov: 18\n",
      "Imena stolpcev: ['ime in priimek', 'starosti', 'ocene']\n",
      "Podatkovni tipi stolpcev: ime in priimek     object\n",
      "starosti            int64\n",
      "ocene             float64\n",
      "dtype: object\n",
      "Imena vrstic: [0, 1, 2, 3, 4, 5]\n",
      "Vrednosti v podatkovni tabeli: [['Ana Novak', 89, 6.0], ['Ula Burger', 100, 9.0], ['Uroš Zorman', 83, 6.0], ['Borut Mačkovšek', 16, 10.0], ['Gal Marguč', 81, 10.0], ['Miha Zarabec', 45, nan]]\n"
     ]
    }
   ],
   "source": [
    "# Izračunamo osnovne informacije\n",
    "število_vrstic = tabela.shape[0]\n",
    "število_stolpcev = tabela.shape[1]\n",
    "število_elementov = tabela.size\n",
    "imena_stolpcev = tabela.columns.tolist()\n",
    "tipi_stolpcev = tabela.dtypes\n",
    "imena_vrstic = tabela.index.tolist()\n",
    "vrednosti = tabela.values.tolist()\n",
    "\n",
    "# Izpis podatkov\n",
    "print(f\"Število vrstic: {število_vrstic}\")\n",
    "print(f\"Število stolpcev: {število_stolpcev}\")\n",
    "print(f\"Število vseh elementov: {število_elementov}\")\n",
    "print(f\"Imena stolpcev: {imena_stolpcev}\")\n",
    "print(f\"Podatkovni tipi stolpcev: {tipi_stolpcev}\")\n",
    "print(f\"Imena vrstic: {imena_vrstic}\")\n",
    "print(f'Vrednosti v podatkovni tabeli: {vrednosti}')"
   ]
  },
  {
   "cell_type": "markdown",
   "metadata": {},
   "source": [
    "### Dostopanje do vrednosti"
   ]
  },
  {
   "cell_type": "markdown",
   "metadata": {},
   "source": [
    "Izpiši stolpec ocen (za vajo poskusi na dva različna načina):"
   ]
  },
  {
   "cell_type": "code",
   "execution_count": 14,
   "metadata": {},
   "outputs": [
    {
     "name": "stdout",
     "output_type": "stream",
     "text": [
      "0     6.0\n",
      "1     9.0\n",
      "2     6.0\n",
      "3    10.0\n",
      "4    10.0\n",
      "5     NaN\n",
      "Name: ocene, dtype: float64\n",
      "0     6.0\n",
      "1     9.0\n",
      "2     6.0\n",
      "3    10.0\n",
      "4    10.0\n",
      "5     NaN\n",
      "Name: ocene, dtype: float64\n"
     ]
    }
   ],
   "source": [
    "print(tabela.ocene)\n",
    "print(tabela[\"ocene\"])"
   ]
  },
  {
   "cell_type": "markdown",
   "metadata": {},
   "source": [
    "Izpiši še stolpec imen in priimkov. Gre tudi tu na oba načina?"
   ]
  },
  {
   "cell_type": "code",
   "execution_count": 17,
   "metadata": {},
   "outputs": [
    {
     "name": "stdout",
     "output_type": "stream",
     "text": [
      "0          Ana Novak\n",
      "1         Ula Burger\n",
      "2        Uroš Zorman\n",
      "3    Borut Mačkovšek\n",
      "4         Gal Marguč\n",
      "5       Miha Zarabec\n",
      "Name: ime in priimek, dtype: object\n"
     ]
    },
    {
     "ename": "AttributeError",
     "evalue": "'DataFrame' object has no attribute 'ime'",
     "output_type": "error",
     "traceback": [
      "\u001b[1;31m---------------------------------------------------------------------------\u001b[0m",
      "\u001b[1;31mAttributeError\u001b[0m                            Traceback (most recent call last)",
      "\u001b[1;32m~\\AppData\\Local\\Temp\\ipykernel_8656\\526898142.py\u001b[0m in \u001b[0;36m?\u001b[1;34m()\u001b[0m\n\u001b[0;32m      1\u001b[0m \u001b[0mprint\u001b[0m\u001b[1;33m(\u001b[0m\u001b[0mtabela\u001b[0m\u001b[1;33m[\u001b[0m\u001b[1;34m\"ime in priimek\"\u001b[0m\u001b[1;33m]\u001b[0m\u001b[1;33m)\u001b[0m\u001b[1;33m\u001b[0m\u001b[1;33m\u001b[0m\u001b[0m\n\u001b[1;32m----> 2\u001b[1;33m \u001b[0mprint\u001b[0m\u001b[1;33m(\u001b[0m\u001b[0mtabela\u001b[0m\u001b[1;33m.\u001b[0m\u001b[0mime\u001b[0m \u001b[1;32min\u001b[0m \u001b[0mpriimek\u001b[0m\u001b[1;33m)\u001b[0m\u001b[1;33m\u001b[0m\u001b[1;33m\u001b[0m\u001b[0m\n\u001b[0m",
      "\u001b[1;32mc:\\Users\\ap2013\\OneDrive - Univerza v Ljubljani\\Documents\\3. letnik\\pavp\\.venv\\Lib\\site-packages\\pandas\\core\\generic.py\u001b[0m in \u001b[0;36m?\u001b[1;34m(self, name)\u001b[0m\n\u001b[0;32m   6295\u001b[0m             \u001b[1;32mand\u001b[0m \u001b[0mname\u001b[0m \u001b[1;32mnot\u001b[0m \u001b[1;32min\u001b[0m \u001b[0mself\u001b[0m\u001b[1;33m.\u001b[0m\u001b[0m_accessors\u001b[0m\u001b[1;33m\u001b[0m\u001b[1;33m\u001b[0m\u001b[0m\n\u001b[0;32m   6296\u001b[0m             \u001b[1;32mand\u001b[0m \u001b[0mself\u001b[0m\u001b[1;33m.\u001b[0m\u001b[0m_info_axis\u001b[0m\u001b[1;33m.\u001b[0m\u001b[0m_can_hold_identifiers_and_holds_name\u001b[0m\u001b[1;33m(\u001b[0m\u001b[0mname\u001b[0m\u001b[1;33m)\u001b[0m\u001b[1;33m\u001b[0m\u001b[1;33m\u001b[0m\u001b[0m\n\u001b[0;32m   6297\u001b[0m         \u001b[1;33m)\u001b[0m\u001b[1;33m:\u001b[0m\u001b[1;33m\u001b[0m\u001b[1;33m\u001b[0m\u001b[0m\n\u001b[0;32m   6298\u001b[0m             \u001b[1;32mreturn\u001b[0m \u001b[0mself\u001b[0m\u001b[1;33m[\u001b[0m\u001b[0mname\u001b[0m\u001b[1;33m]\u001b[0m\u001b[1;33m\u001b[0m\u001b[1;33m\u001b[0m\u001b[0m\n\u001b[1;32m-> 6299\u001b[1;33m         \u001b[1;32mreturn\u001b[0m \u001b[0mobject\u001b[0m\u001b[1;33m.\u001b[0m\u001b[0m__getattribute__\u001b[0m\u001b[1;33m(\u001b[0m\u001b[0mself\u001b[0m\u001b[1;33m,\u001b[0m \u001b[0mname\u001b[0m\u001b[1;33m)\u001b[0m\u001b[1;33m\u001b[0m\u001b[1;33m\u001b[0m\u001b[0m\n\u001b[0m",
      "\u001b[1;31mAttributeError\u001b[0m: 'DataFrame' object has no attribute 'ime'"
     ]
    }
   ],
   "source": [
    "print(tabela[\"ime in priimek\"])\n",
    "print(tabela.ime in priimek)"
   ]
  },
  {
   "cell_type": "markdown",
   "metadata": {},
   "source": [
    "Izpiši starosti od tretje do pete vrstice:"
   ]
  },
  {
   "cell_type": "code",
   "execution_count": 20,
   "metadata": {},
   "outputs": [
    {
     "name": "stdout",
     "output_type": "stream",
     "text": [
      "3    16\n",
      "4    81\n",
      "5    45\n",
      "Name: starosti, dtype: int64\n",
      "3    16\n",
      "4    81\n",
      "5    45\n",
      "Name: starosti, dtype: int64\n"
     ]
    }
   ],
   "source": [
    "print(tabela.loc[3:5,\"starosti\"])\n",
    "print(tabela.starosti[3:6])"
   ]
  },
  {
   "cell_type": "markdown",
   "metadata": {},
   "source": [
    "Izpiši samo imena in ocene:"
   ]
  },
  {
   "cell_type": "code",
   "execution_count": 22,
   "metadata": {},
   "outputs": [
    {
     "name": "stdout",
     "output_type": "stream",
     "text": [
      "    ime in priimek  starosti\n",
      "0        Ana Novak        89\n",
      "1       Ula Burger       100\n",
      "2      Uroš Zorman        83\n",
      "3  Borut Mačkovšek        16\n",
      "4       Gal Marguč        81\n",
      "5     Miha Zarabec        45\n"
     ]
    }
   ],
   "source": [
    "print(tabela.loc[:,[\"ime in priimek\",\"starosti\"]])"
   ]
  },
  {
   "cell_type": "markdown",
   "metadata": {},
   "source": [
    "## Še en primer\n",
    "\n",
    "Dani so naslednji podatki o živalih v zavetišču"
   ]
  },
  {
   "cell_type": "code",
   "execution_count": 24,
   "metadata": {},
   "outputs": [],
   "source": [
    "imena = [\"Luna\", \"Whiskers\", \"Rocky\", \"Nala\", \"Maksi\", \"Bella\", \"Buddy\"]\n",
    "vrste = [\"Pes\", \"Mačka\", \"Pes\", \"Mačka\", \"Pes\", \"Mačka\", \"Pes\"]\n",
    "starosti = [2, 4, 3, 1, 5, 2, 6]\n",
    "spoli = [\"Ž\", \"M\", \"M\", \"Ž\", \"M\", \"Ž\", \"M\"]\n",
    "datumi_sprejema = [\"2023-04-10\", \"2023-03-15\", \"2023-04-02\", \"2023-03-20\", \"2023-04-12\", \"2023-04-05\", \"2023-03-08\"]"
   ]
  },
  {
   "cell_type": "markdown",
   "metadata": {},
   "source": [
    "Sestavi tabelo `zavetisce`. Tabela naj vsebuje naslednje stolpce. Poleg stolpca je zapisan tip podatkov v tem stolpcu.\n",
    "\n",
    "* `ime` - običajen stolpec\n",
    "* `vrsta` - kategorija\n",
    "* `starost` - celoštevilske vrednosti\n",
    "* `spol` - kategorija\n",
    "* `datum_sprejema` - časovni podatek"
   ]
  },
  {
   "cell_type": "code",
   "execution_count": 28,
   "metadata": {},
   "outputs": [
    {
     "name": "stdout",
     "output_type": "stream",
     "text": [
      "      imena  vrste  starosti spoli datumi_sprejema\n",
      "0      Luna    Pes         2     Ž      2023-04-10\n",
      "1  Whiskers  Mačka         4     M      2023-03-15\n",
      "2     Rocky    Pes         3     M      2023-04-02\n",
      "3      Nala  Mačka         1     Ž      2023-03-20\n",
      "4     Maksi    Pes         5     M      2023-04-12\n",
      "5     Bella  Mačka         2     Ž      2023-04-05\n",
      "6     Buddy    Pes         6     M      2023-03-08\n"
     ]
    }
   ],
   "source": [
    "zavetisce = pd.DataFrame({\"imena\": pd.Series(imena), \n",
    "                       \"vrste\": pd.Series(vrste, dtype=\"category\"), \n",
    "                       \"starosti\": pd.Series(starosti, dtype=\"int\"),\n",
    "                       \"spoli\": pd.Series(spoli, dtype=\"category\"), \n",
    "                       \"datumi_sprejema\": pd.to_datetime(datumi_sprejema)})\n",
    "print(zavetisce)"
   ]
  },
  {
   "cell_type": "markdown",
   "metadata": {},
   "source": [
    "Dani so še opisi živali. Vrstni red ustreza vrstnemu redu prejšnjih seznamov."
   ]
  },
  {
   "cell_type": "code",
   "execution_count": 27,
   "metadata": {},
   "outputs": [],
   "source": [
    "opisi = [\"Mešanec, črna dlaka, prijazna\", \"Sivo-bela dlaka, živahen, nejevoljen ob dotiku\", \"Labrador, rjave oči, igriv, poslušen\",\n",
    "         \"Črna dlaka, prijazna, zelo igriva\", \"Nemški ovčar, črno-rjava dlaka, velik, zvest\", \"Bela dlaka, sramežljiva, igriva\",\n",
    "         \"Zlati prinašalec, svetlo rjava dlaka, prijazen\"]"
   ]
  },
  {
   "cell_type": "markdown",
   "metadata": {},
   "source": [
    "Tabeli `zavetisce` dodaj nov stolpec z opisi živali."
   ]
  },
  {
   "cell_type": "code",
   "execution_count": 30,
   "metadata": {},
   "outputs": [
    {
     "name": "stdout",
     "output_type": "stream",
     "text": [
      "      imena  vrste  starosti spoli datumi_sprejema  \\\n",
      "0      Luna    Pes         2     Ž      2023-04-10   \n",
      "1  Whiskers  Mačka         4     M      2023-03-15   \n",
      "2     Rocky    Pes         3     M      2023-04-02   \n",
      "3      Nala  Mačka         1     Ž      2023-03-20   \n",
      "4     Maksi    Pes         5     M      2023-04-12   \n",
      "5     Bella  Mačka         2     Ž      2023-04-05   \n",
      "6     Buddy    Pes         6     M      2023-03-08   \n",
      "\n",
      "                                            opisi  \n",
      "0                   Mešanec, črna dlaka, prijazna  \n",
      "1  Sivo-bela dlaka, živahen, nejevoljen ob dotiku  \n",
      "2            Labrador, rjave oči, igriv, poslušen  \n",
      "3               Črna dlaka, prijazna, zelo igriva  \n",
      "4    Nemški ovčar, črno-rjava dlaka, velik, zvest  \n",
      "5                 Bela dlaka, sramežljiva, igriva  \n",
      "6  Zlati prinašalec, svetlo rjava dlaka, prijazen  \n"
     ]
    }
   ],
   "source": [
    "zavetisce[\"opisi\"] = opisi\n",
    "print(zavetisce)"
   ]
  },
  {
   "cell_type": "markdown",
   "metadata": {},
   "source": [
    "Izpiši samo opise živali v lihih vrsticah:"
   ]
  },
  {
   "cell_type": "code",
   "execution_count": 31,
   "metadata": {},
   "outputs": [
    {
     "name": "stdout",
     "output_type": "stream",
     "text": [
      "1    Sivo-bela dlaka, živahen, nejevoljen ob dotiku\n",
      "3                 Črna dlaka, prijazna, zelo igriva\n",
      "5                   Bela dlaka, sramežljiva, igriva\n",
      "Name: opisi, dtype: object\n"
     ]
    }
   ],
   "source": [
    "print(zavetisce.loc[1:6:2, \"opisi\"])"
   ]
  },
  {
   "cell_type": "markdown",
   "metadata": {},
   "source": [
    "Izpiši vrstice 2, 4 in 5 ter stolpce `ime`, `vrsta` in `spol`."
   ]
  },
  {
   "cell_type": "code",
   "execution_count": 32,
   "metadata": {},
   "outputs": [
    {
     "name": "stdout",
     "output_type": "stream",
     "text": [
      "   imena  vrste spoli\n",
      "2  Rocky    Pes     M\n",
      "4  Maksi    Pes     M\n",
      "5  Bella  Mačka     Ž\n"
     ]
    }
   ],
   "source": [
    "print(zavetisce.loc[[2,4,5],[\"imena\",\"vrste\",\"spoli\"]])"
   ]
  },
  {
   "cell_type": "markdown",
   "metadata": {},
   "source": [
    "Izpiši prve tri vrstice stolpca na 4. indeksu."
   ]
  },
  {
   "cell_type": "code",
   "execution_count": 34,
   "metadata": {},
   "outputs": [
    {
     "name": "stdout",
     "output_type": "stream",
     "text": [
      "0   2023-04-10\n",
      "1   2023-03-15\n",
      "2   2023-04-02\n",
      "Name: datumi_sprejema, dtype: datetime64[ns]\n"
     ]
    }
   ],
   "source": [
    "print(zavetisce.iloc[:3, 4])"
   ]
  },
  {
   "cell_type": "markdown",
   "metadata": {},
   "source": [
    "Izpiši datum sprejema mačka z imenom Whiskers:"
   ]
  },
  {
   "cell_type": "code",
   "execution_count": 37,
   "metadata": {},
   "outputs": [
    {
     "name": "stdout",
     "output_type": "stream",
     "text": [
      "1   2023-03-15\n",
      "Name: datumi_sprejema, dtype: datetime64[ns]\n"
     ]
    }
   ],
   "source": [
    "print(zavetisce.loc[zavetisce[\"imena\"] == \"Whiskers\", \"datumi_sprejema\"])"
   ]
  },
  {
   "cell_type": "markdown",
   "metadata": {},
   "source": [
    "Izpiši imena in starosti vseh psov v zavetišču:"
   ]
  },
  {
   "cell_type": "code",
   "execution_count": 38,
   "metadata": {},
   "outputs": [
    {
     "name": "stdout",
     "output_type": "stream",
     "text": [
      "   imena  starosti\n",
      "0   Luna         2\n",
      "2  Rocky         3\n",
      "4  Maksi         5\n",
      "6  Buddy         6\n"
     ]
    }
   ],
   "source": [
    "print(zavetisce.loc[zavetisce[\"vrste\"] == \"Pes\", [\"imena\",\"starosti\"]])"
   ]
  },
  {
   "cell_type": "markdown",
   "metadata": {},
   "source": [
    "Izpiši vse živali, starejše od treh let\""
   ]
  },
  {
   "cell_type": "code",
   "execution_count": 39,
   "metadata": {},
   "outputs": [
    {
     "name": "stdout",
     "output_type": "stream",
     "text": [
      "      imena  vrste  starosti spoli datumi_sprejema  \\\n",
      "1  Whiskers  Mačka         4     M      2023-03-15   \n",
      "2     Rocky    Pes         3     M      2023-04-02   \n",
      "4     Maksi    Pes         5     M      2023-04-12   \n",
      "6     Buddy    Pes         6     M      2023-03-08   \n",
      "\n",
      "                                            opisi  \n",
      "1  Sivo-bela dlaka, živahen, nejevoljen ob dotiku  \n",
      "2            Labrador, rjave oči, igriv, poslušen  \n",
      "4    Nemški ovčar, črno-rjava dlaka, velik, zvest  \n",
      "6  Zlati prinašalec, svetlo rjava dlaka, prijazen  \n"
     ]
    }
   ],
   "source": [
    "print(zavetisce.loc[zavetisce[\"starosti\"] >= 3, :])"
   ]
  },
  {
   "cell_type": "markdown",
   "metadata": {},
   "source": [
    "Izpiši imena, vrste in opise vseh živali, ki so jih v zavetišče sprejeli pred 1. 4. 2023:"
   ]
  },
  {
   "cell_type": "code",
   "execution_count": 44,
   "metadata": {},
   "outputs": [
    {
     "name": "stdout",
     "output_type": "stream",
     "text": [
      "      imena  vrste                                           opisi\n",
      "1  Whiskers  Mačka  Sivo-bela dlaka, živahen, nejevoljen ob dotiku\n",
      "3      Nala  Mačka               Črna dlaka, prijazna, zelo igriva\n",
      "6     Buddy    Pes  Zlati prinašalec, svetlo rjava dlaka, prijazen\n"
     ]
    }
   ],
   "source": [
    "print(zavetisce.loc[zavetisce[\"datumi_sprejema\"] <= '2023-04-01', [\"imena\",\"vrste\",\"opisi\"]])"
   ]
  }
 ],
 "metadata": {
  "kernelspec": {
   "display_name": "venv",
   "language": "python",
   "name": "python3"
  },
  "language_info": {
   "codemirror_mode": {
    "name": "ipython",
    "version": 3
   },
   "file_extension": ".py",
   "mimetype": "text/x-python",
   "name": "python",
   "nbconvert_exporter": "python",
   "pygments_lexer": "ipython3",
   "version": "3.12.2"
  }
 },
 "nbformat": 4,
 "nbformat_minor": 2
}
