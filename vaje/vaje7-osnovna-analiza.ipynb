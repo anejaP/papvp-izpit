{
 "cells": [
  {
   "cell_type": "markdown",
   "metadata": {},
   "source": [
    "# Osnovna analiza"
   ]
  },
  {
   "cell_type": "markdown",
   "metadata": {},
   "source": [
    "## Osnovno računanje statistik"
   ]
  },
  {
   "cell_type": "code",
   "execution_count": 1,
   "metadata": {
    "metadata": {}
   },
   "outputs": [],
   "source": [
    "# uvoz modulov\n",
    "import pandas as pd"
   ]
  },
  {
   "cell_type": "markdown",
   "metadata": {},
   "source": [
    "Iz spodnjih podatkov ustvari podatkovno tabelo `zavetisce` in stolpcem nastavi ustrezne podatkovne tipe."
   ]
  },
  {
   "cell_type": "code",
   "execution_count": 2,
   "metadata": {
    "metadata": {}
   },
   "outputs": [
    {
     "data": {
      "text/html": [
       "<div>\n",
       "<style scoped>\n",
       "    .dataframe tbody tr th:only-of-type {\n",
       "        vertical-align: middle;\n",
       "    }\n",
       "\n",
       "    .dataframe tbody tr th {\n",
       "        vertical-align: top;\n",
       "    }\n",
       "\n",
       "    .dataframe thead th {\n",
       "        text-align: right;\n",
       "    }\n",
       "</style>\n",
       "<table border=\"1\" class=\"dataframe\">\n",
       "  <thead>\n",
       "    <tr style=\"text-align: right;\">\n",
       "      <th></th>\n",
       "      <th>ime</th>\n",
       "      <th>vrsta</th>\n",
       "      <th>starost</th>\n",
       "      <th>spol</th>\n",
       "      <th>datum_sprejema</th>\n",
       "    </tr>\n",
       "  </thead>\n",
       "  <tbody>\n",
       "    <tr>\n",
       "      <th>0</th>\n",
       "      <td>Luna</td>\n",
       "      <td>Pes</td>\n",
       "      <td>2</td>\n",
       "      <td>Ž</td>\n",
       "      <td>2023-04-10</td>\n",
       "    </tr>\n",
       "    <tr>\n",
       "      <th>1</th>\n",
       "      <td>Whiskers</td>\n",
       "      <td>Mačka</td>\n",
       "      <td>4</td>\n",
       "      <td>M</td>\n",
       "      <td>2023-03-15</td>\n",
       "    </tr>\n",
       "    <tr>\n",
       "      <th>2</th>\n",
       "      <td>Rocky</td>\n",
       "      <td>Pes</td>\n",
       "      <td>3</td>\n",
       "      <td>M</td>\n",
       "      <td>2023-04-02</td>\n",
       "    </tr>\n",
       "    <tr>\n",
       "      <th>3</th>\n",
       "      <td>Nala</td>\n",
       "      <td>Mačka</td>\n",
       "      <td>1</td>\n",
       "      <td>Ž</td>\n",
       "      <td>2023-03-20</td>\n",
       "    </tr>\n",
       "    <tr>\n",
       "      <th>4</th>\n",
       "      <td>Maksi</td>\n",
       "      <td>Pes</td>\n",
       "      <td>5</td>\n",
       "      <td>M</td>\n",
       "      <td>2023-04-12</td>\n",
       "    </tr>\n",
       "    <tr>\n",
       "      <th>5</th>\n",
       "      <td>Bella</td>\n",
       "      <td>Mačka</td>\n",
       "      <td>2</td>\n",
       "      <td>Ž</td>\n",
       "      <td>2023-04-05</td>\n",
       "    </tr>\n",
       "    <tr>\n",
       "      <th>6</th>\n",
       "      <td>Buddy</td>\n",
       "      <td>Pes</td>\n",
       "      <td>6</td>\n",
       "      <td>M</td>\n",
       "      <td>2023-03-08</td>\n",
       "    </tr>\n",
       "    <tr>\n",
       "      <th>7</th>\n",
       "      <td>Daisy</td>\n",
       "      <td>Pes</td>\n",
       "      <td>10</td>\n",
       "      <td>Ž</td>\n",
       "      <td>2023-04-23</td>\n",
       "    </tr>\n",
       "    <tr>\n",
       "      <th>8</th>\n",
       "      <td>Coco</td>\n",
       "      <td>Mačka</td>\n",
       "      <td>8</td>\n",
       "      <td>Ž</td>\n",
       "      <td>2023-01-08</td>\n",
       "    </tr>\n",
       "    <tr>\n",
       "      <th>9</th>\n",
       "      <td>Ruby</td>\n",
       "      <td>Pes</td>\n",
       "      <td>8</td>\n",
       "      <td>Ž</td>\n",
       "      <td>2023-05-29</td>\n",
       "    </tr>\n",
       "    <tr>\n",
       "      <th>10</th>\n",
       "      <td>Mochi</td>\n",
       "      <td>Pes</td>\n",
       "      <td>3</td>\n",
       "      <td>Ž</td>\n",
       "      <td>2023-07-07</td>\n",
       "    </tr>\n",
       "    <tr>\n",
       "      <th>11</th>\n",
       "      <td>Cheddar</td>\n",
       "      <td>Pes</td>\n",
       "      <td>6</td>\n",
       "      <td>M</td>\n",
       "      <td>2023-10-07</td>\n",
       "    </tr>\n",
       "    <tr>\n",
       "      <th>12</th>\n",
       "      <td>Max</td>\n",
       "      <td>Mačka</td>\n",
       "      <td>6</td>\n",
       "      <td>M</td>\n",
       "      <td>2023-02-17</td>\n",
       "    </tr>\n",
       "    <tr>\n",
       "      <th>13</th>\n",
       "      <td>Rascal</td>\n",
       "      <td>Pes</td>\n",
       "      <td>4</td>\n",
       "      <td>M</td>\n",
       "      <td>2023-09-27</td>\n",
       "    </tr>\n",
       "    <tr>\n",
       "      <th>14</th>\n",
       "      <td>Charlie</td>\n",
       "      <td>Mačka</td>\n",
       "      <td>2</td>\n",
       "      <td>M</td>\n",
       "      <td>2023-08-07</td>\n",
       "    </tr>\n",
       "    <tr>\n",
       "      <th>15</th>\n",
       "      <td>Skittles</td>\n",
       "      <td>Papiga</td>\n",
       "      <td>4</td>\n",
       "      <td>Ž</td>\n",
       "      <td>2023-08-26</td>\n",
       "    </tr>\n",
       "    <tr>\n",
       "      <th>16</th>\n",
       "      <td>Juno</td>\n",
       "      <td>Pes</td>\n",
       "      <td>10</td>\n",
       "      <td>Ž</td>\n",
       "      <td>2023-05-18</td>\n",
       "    </tr>\n",
       "    <tr>\n",
       "      <th>17</th>\n",
       "      <td>Mango</td>\n",
       "      <td>Papiga</td>\n",
       "      <td>10</td>\n",
       "      <td>M</td>\n",
       "      <td>2023-05-18</td>\n",
       "    </tr>\n",
       "    <tr>\n",
       "      <th>18</th>\n",
       "      <td>Charlie</td>\n",
       "      <td>Pes</td>\n",
       "      <td>4</td>\n",
       "      <td>M</td>\n",
       "      <td>2023-07-17</td>\n",
       "    </tr>\n",
       "    <tr>\n",
       "      <th>19</th>\n",
       "      <td>Snickers</td>\n",
       "      <td>Zajec</td>\n",
       "      <td>2</td>\n",
       "      <td>Ž</td>\n",
       "      <td>2023-06-03</td>\n",
       "    </tr>\n",
       "  </tbody>\n",
       "</table>\n",
       "</div>"
      ],
      "text/plain": [
       "         ime   vrsta  starost spol datum_sprejema\n",
       "0       Luna     Pes        2    Ž     2023-04-10\n",
       "1   Whiskers   Mačka        4    M     2023-03-15\n",
       "2      Rocky     Pes        3    M     2023-04-02\n",
       "3       Nala   Mačka        1    Ž     2023-03-20\n",
       "4      Maksi     Pes        5    M     2023-04-12\n",
       "5      Bella   Mačka        2    Ž     2023-04-05\n",
       "6      Buddy     Pes        6    M     2023-03-08\n",
       "7      Daisy     Pes       10    Ž     2023-04-23\n",
       "8       Coco   Mačka        8    Ž     2023-01-08\n",
       "9       Ruby     Pes        8    Ž     2023-05-29\n",
       "10     Mochi     Pes        3    Ž     2023-07-07\n",
       "11   Cheddar     Pes        6    M     2023-10-07\n",
       "12       Max   Mačka        6    M     2023-02-17\n",
       "13    Rascal     Pes        4    M     2023-09-27\n",
       "14   Charlie   Mačka        2    M     2023-08-07\n",
       "15  Skittles  Papiga        4    Ž     2023-08-26\n",
       "16      Juno     Pes       10    Ž     2023-05-18\n",
       "17     Mango  Papiga       10    M     2023-05-18\n",
       "18   Charlie     Pes        4    M     2023-07-17\n",
       "19  Snickers   Zajec        2    Ž     2023-06-03"
      ]
     },
     "execution_count": 2,
     "metadata": {},
     "output_type": "execute_result"
    }
   ],
   "source": [
    "zavetisce = pd.read_csv('zivali_v_zavetiscu.csv')\n",
    "zavetisce\n",
    "#"
   ]
  },
  {
   "cell_type": "markdown",
   "metadata": {},
   "source": [
    "Izpiši naslednje statistike o starosti živali v zavetišču:\n",
    "* povprečna starost vseh živali\n",
    "* standardni odklon starosti\n",
    "* srednja starost\n",
    "* 0.5. kvantil starosti\n",
    "* 0.25. kvantil starosti\n",
    "* 0.75. kvantil starosti"
   ]
  },
  {
   "cell_type": "code",
   "execution_count": 12,
   "metadata": {
    "metadata": {}
   },
   "outputs": [
    {
     "name": "stdout",
     "output_type": "stream",
     "text": [
      "Povprečna starost vseh živali je 5.0\n",
      "Standardni odklon starosti je 2.9019050004400464\n",
      "Srednja starost je 4.0\n",
      "0.5 kvantil starosti je 4.0\n",
      "0.25 kvantil starosti je 2.75\n",
      "0.75 kvantil starosti je 6.5\n"
     ]
    }
   ],
   "source": [
    "print(f'Povprečna starost vseh živali je {zavetisce.starost.mean()}')\n",
    "print(f'Standardni odklon starosti je {zavetisce.starost.std()}')\n",
    "print(f'Srednja starost je {zavetisce.starost.median()}')\n",
    "print(f'0.5 kvantil starosti je {zavetisce.starost.quantile(.5)}')\n",
    "print(f'0.25 kvantil starosti je {zavetisce.starost.quantile(.25)}')\n",
    "print(f'0.75 kvantil starosti je {zavetisce.starost.quantile(.75)}')"
   ]
  },
  {
   "cell_type": "markdown",
   "metadata": {},
   "source": [
    "Poišči število vseh samičk:"
   ]
  },
  {
   "cell_type": "code",
   "execution_count": 20,
   "metadata": {
    "metadata": {}
   },
   "outputs": [
    {
     "name": "stdout",
     "output_type": "stream",
     "text": [
      "Število vseh samičk je 10\n"
     ]
    }
   ],
   "source": [
    "print(f'Število vseh samičk je {(zavetisce.spol == 'Ž').sum()}')"
   ]
  },
  {
   "cell_type": "markdown",
   "metadata": {},
   "source": [
    "Poišči povprečno starost za vsako vrsto hišnih ljubljenčkov:"
   ]
  },
  {
   "cell_type": "code",
   "execution_count": 21,
   "metadata": {
    "metadata": {}
   },
   "outputs": [
    {
     "name": "stdout",
     "output_type": "stream",
     "text": [
      "Povprečna starost za vsako vrsto je vrsta\n",
      "Mačka     3.833333\n",
      "Papiga    7.000000\n",
      "Pes       5.545455\n",
      "Zajec     2.000000\n",
      "Name: starost, dtype: float64\n"
     ]
    }
   ],
   "source": [
    "print(f'Povprečna starost za vsako vrsto je {zavetisce.groupby('vrsta')['starost'].mean()}')"
   ]
  },
  {
   "cell_type": "markdown",
   "metadata": {},
   "source": [
    "Za vsak spol poišči srednjo, najmanjšo in najvišjo starost:"
   ]
  },
  {
   "cell_type": "code",
   "execution_count": 23,
   "metadata": {
    "metadata": {}
   },
   "outputs": [
    {
     "name": "stdout",
     "output_type": "stream",
     "text": [
      "spol\n",
      "M    5.0\n",
      "Ž    5.0\n",
      "Name: starost, dtype: float64\n",
      "spol\n",
      "M    2\n",
      "Ž    1\n",
      "Name: starost, dtype: int64\n",
      "spol\n",
      "M    10\n",
      "Ž    10\n",
      "Name: starost, dtype: int64\n"
     ]
    }
   ],
   "source": [
    "print(zavetisce.groupby('spol')['starost'].mean())\n",
    "print(zavetisce.groupby('spol')['starost'].min())\n",
    "print(zavetisce.groupby('spol')['starost'].max())"
   ]
  },
  {
   "cell_type": "markdown",
   "metadata": {},
   "source": [
    "Poišči število živali in povprečno starost za vsako vrsto in spol:"
   ]
  },
  {
   "cell_type": "code",
   "execution_count": 36,
   "metadata": {
    "metadata": {}
   },
   "outputs": [
    {
     "name": "stdout",
     "output_type": "stream",
     "text": [
      "Število živali je 20\n",
      "Povprečna starost za vsako vrsto in spol \n",
      "vrsta   spol\n",
      "Mačka   M        4.000000\n",
      "        Ž        3.666667\n",
      "Papiga  M       10.000000\n",
      "        Ž        4.000000\n",
      "Pes     M        4.666667\n",
      "        Ž        6.600000\n",
      "Zajec   Ž        2.000000\n",
      "Name: starost, dtype: float64\n"
     ]
    }
   ],
   "source": [
    "print(f'Število živali je {zavetisce.ime.count()}')\n",
    "print(f'Povprečna starost za vsako vrsto in spol \\n{zavetisce.groupby(['vrsta', 'spol'])['starost'].mean()}')\n"
   ]
  },
  {
   "cell_type": "markdown",
   "metadata": {},
   "source": [
    "Poišči podatke o živali, ki je v zavetišču najdlje:"
   ]
  },
  {
   "cell_type": "code",
   "execution_count": 35,
   "metadata": {
    "metadata": {}
   },
   "outputs": [
    {
     "name": "stdout",
     "output_type": "stream",
     "text": [
      "Podatki o živali, ki je v zavetišču najdlje\n",
      "    ime  vrsta  starost spol datum_sprejema\n",
      "8  Coco  Mačka        8    Ž     2023-01-08\n"
     ]
    }
   ],
   "source": [
    "\n",
    "print(f'Podatki o živali, ki je v zavetišču najdlje\\n{zavetisce[zavetisce.datum_sprejema == zavetisce.datum_sprejema.min()]}')"
   ]
  },
  {
   "cell_type": "markdown",
   "metadata": {},
   "source": [
    "Za vsako vrsto poišči podatke o živali, ki je v zavetišču najdlje.\n",
    "\n",
    "<details><summary>Namig</summary>\n",
    "Najprej poišči najmanjši datum sprejema za vsako vrsto, nato pa pripni ustrezne podatke iz tabele zavetišče.\n",
    "</details>"
   ]
  },
  {
   "cell_type": "code",
   "execution_count": 58,
   "metadata": {
    "metadata": {}
   },
   "outputs": [
    {
     "data": {
      "text/html": [
       "<div>\n",
       "<style scoped>\n",
       "    .dataframe tbody tr th:only-of-type {\n",
       "        vertical-align: middle;\n",
       "    }\n",
       "\n",
       "    .dataframe tbody tr th {\n",
       "        vertical-align: top;\n",
       "    }\n",
       "\n",
       "    .dataframe thead th {\n",
       "        text-align: right;\n",
       "    }\n",
       "</style>\n",
       "<table border=\"1\" class=\"dataframe\">\n",
       "  <thead>\n",
       "    <tr style=\"text-align: right;\">\n",
       "      <th></th>\n",
       "      <th>vrsta</th>\n",
       "      <th>datum_sprejema</th>\n",
       "      <th>ime</th>\n",
       "      <th>starost</th>\n",
       "      <th>spol</th>\n",
       "    </tr>\n",
       "  </thead>\n",
       "  <tbody>\n",
       "    <tr>\n",
       "      <th>0</th>\n",
       "      <td>Mačka</td>\n",
       "      <td>2023-01-08</td>\n",
       "      <td>Coco</td>\n",
       "      <td>8</td>\n",
       "      <td>Ž</td>\n",
       "    </tr>\n",
       "    <tr>\n",
       "      <th>1</th>\n",
       "      <td>Papiga</td>\n",
       "      <td>2023-05-18</td>\n",
       "      <td>Mango</td>\n",
       "      <td>10</td>\n",
       "      <td>M</td>\n",
       "    </tr>\n",
       "    <tr>\n",
       "      <th>2</th>\n",
       "      <td>Pes</td>\n",
       "      <td>2023-03-08</td>\n",
       "      <td>Buddy</td>\n",
       "      <td>6</td>\n",
       "      <td>M</td>\n",
       "    </tr>\n",
       "    <tr>\n",
       "      <th>3</th>\n",
       "      <td>Zajec</td>\n",
       "      <td>2023-06-03</td>\n",
       "      <td>Snickers</td>\n",
       "      <td>2</td>\n",
       "      <td>Ž</td>\n",
       "    </tr>\n",
       "  </tbody>\n",
       "</table>\n",
       "</div>"
      ],
      "text/plain": [
       "    vrsta datum_sprejema       ime  starost spol\n",
       "0   Mačka     2023-01-08      Coco        8    Ž\n",
       "1  Papiga     2023-05-18     Mango       10    M\n",
       "2     Pes     2023-03-08     Buddy        6    M\n",
       "3   Zajec     2023-06-03  Snickers        2    Ž"
      ]
     },
     "execution_count": 58,
     "metadata": {},
     "output_type": "execute_result"
    }
   ],
   "source": [
    "najstarejsa = zavetisce.groupby('vrsta')['datum_sprejema'].min()\n",
    "rezultat = pd.merge(najstarejsa, zavetisce,how='left',on=['vrsta','datum_sprejema'])\n",
    "rezultat"
   ]
  },
  {
   "cell_type": "markdown",
   "metadata": {},
   "source": [
    "## Naloge"
   ]
  },
  {
   "cell_type": "markdown",
   "metadata": {},
   "source": [
    "### 1. naloga - Rezultati kolokvijev"
   ]
  },
  {
   "cell_type": "markdown",
   "metadata": {},
   "source": [
    "1. Napiši program v `pandas`, ki na osnovi podatkov iz tabel `studenti` in `studenti_ocene` (s predavanj) izpiše ime študenta ali študentke z najboljšim povprečnim rezultatom na kolokvijih."
   ]
  },
  {
   "cell_type": "code",
   "execution_count": 81,
   "metadata": {},
   "outputs": [
    {
     "data": {
      "text/plain": [
       "'Ana'"
      ]
     },
     "execution_count": 81,
     "metadata": {},
     "output_type": "execute_result"
    }
   ],
   "source": [
    "studenti = pd.read_csv('studenti.csv')\n",
    "studenti_ocene = pd.read_csv('studenti_ocene.csv')\n",
    "\n",
    "studenti_ocene.groupby(\"ime\")['rezultat'].mean().idxmax()"
   ]
  },
  {
   "cell_type": "markdown",
   "metadata": {},
   "source": [
    "2. Sestavi tabelo, ki za posamezen kolokvij poroča razliko med najboljšim in najslabšim rezultatom študentov."
   ]
  },
  {
   "cell_type": "code",
   "execution_count": 104,
   "metadata": {},
   "outputs": [
    {
     "data": {
      "text/html": [
       "<div>\n",
       "<style scoped>\n",
       "    .dataframe tbody tr th:only-of-type {\n",
       "        vertical-align: middle;\n",
       "    }\n",
       "\n",
       "    .dataframe tbody tr th {\n",
       "        vertical-align: top;\n",
       "    }\n",
       "\n",
       "    .dataframe thead th {\n",
       "        text-align: right;\n",
       "    }\n",
       "</style>\n",
       "<table border=\"1\" class=\"dataframe\">\n",
       "  <thead>\n",
       "    <tr style=\"text-align: right;\">\n",
       "      <th></th>\n",
       "      <th></th>\n",
       "      <th>ime</th>\n",
       "      <th>rezultat</th>\n",
       "    </tr>\n",
       "    <tr>\n",
       "      <th>semester</th>\n",
       "      <th>kolokvij</th>\n",
       "      <th></th>\n",
       "      <th></th>\n",
       "    </tr>\n",
       "  </thead>\n",
       "  <tbody>\n",
       "    <tr>\n",
       "      <th rowspan=\"2\" valign=\"top\">1</th>\n",
       "      <th>1</th>\n",
       "      <td>Franc</td>\n",
       "      <td>95.0</td>\n",
       "    </tr>\n",
       "    <tr>\n",
       "      <th>2</th>\n",
       "      <td>Franc</td>\n",
       "      <td>99.0</td>\n",
       "    </tr>\n",
       "    <tr>\n",
       "      <th rowspan=\"2\" valign=\"top\">2</th>\n",
       "      <th>1</th>\n",
       "      <td>Franc</td>\n",
       "      <td>97.0</td>\n",
       "    </tr>\n",
       "    <tr>\n",
       "      <th>2</th>\n",
       "      <td>Franc</td>\n",
       "      <td>95.0</td>\n",
       "    </tr>\n",
       "  </tbody>\n",
       "</table>\n",
       "</div>"
      ],
      "text/plain": [
       "                     ime  rezultat\n",
       "semester kolokvij                 \n",
       "1        1         Franc      95.0\n",
       "         2         Franc      99.0\n",
       "2        1         Franc      97.0\n",
       "         2         Franc      95.0"
      ]
     },
     "execution_count": 104,
     "metadata": {},
     "output_type": "execute_result"
    }
   ],
   "source": [
    "minimum = studenti_ocene.groupby(['semester','kolokvij']).min()\n",
    "maksimum = studenti_ocene.groupby(['semester','kolokvij']).max()\n",
    "maksimum\n"
   ]
  },
  {
   "cell_type": "markdown",
   "metadata": {},
   "source": [
    "3. V tabeli z rezultati kolokvijev, ki ste jo sestavili med predavanji, dodaj naslednje tri spremenljivke.\n",
    "\n",
    "    * `skupaj`: skupno število doseženih točk študenta (študentke) na kolokvijih;\n",
    "  \n",
    "    * `povprecje`: povprečno število doseženih točk študenta (študentke) na kolokvijih;\n",
    "  \n",
    "    * `ocena`: dosežena ocena študenta (študentke), pri čemer upoštevate običajno ocenjevalno lestvico, kjer je 10 ocena za povprečen rezultat nad 90 točk, 9 za povprečje nad 80, 8 za povprečje nad 70, 7 za povprečje nad 60, 6 za povprečje nad 50 in 5 za povprečje največ 50.\n",
    "    "
   ]
  },
  {
   "cell_type": "code",
   "execution_count": null,
   "metadata": {},
   "outputs": [],
   "source": []
  },
  {
   "cell_type": "markdown",
   "metadata": {},
   "source": [
    "### 2. naloga - Vrednosti funkcije\n",
    "Sestavi tabelo funkcije $f(x,y)=\\sin(x^2+y^2)$ za vse vrednosti $x$ in $y$ na intervalu $[-2,2]$ vzorčene s korakom $0.1$, torej $\\{-2, -1.9, -1.8, \\ldots, 2\\}$. Iz te tabele za podano vrednost $\\varepsilon$ sestavi seznam treh podatkovnih tabel: prva naj vsebuje tiste vrstice, za katere velja $z = f(x, y) < -\\varepsilon$, druga vrstice $|z| \\leq \\varepsilon$ in tretja vrstice $z > \\varepsilon$."
   ]
  },
  {
   "cell_type": "code",
   "execution_count": null,
   "metadata": {},
   "outputs": [],
   "source": []
  },
  {
   "cell_type": "markdown",
   "metadata": {},
   "source": [
    "### 3. naloga - Covid sledilnik\n",
    "\n",
    "Spletna stran [Covid-19 sledilnik](https://covid-19.sledilnik.org/) ponuja dnevno osvežene podatke o stanju epidemije Covid-19 v Sloveniji. Podatki o dnevnem številu okužb ponujajo tudi skozi spletne storitve [GitHub](https://github.com/sledilnik/data/blob/master/csv/stats.csv): ti podatki so v obliki CSV dostopni na naslovu [https://raw.githubusercontent.com/sledilnik/data/master/csv/stats.csv](https://raw.githubusercontent.com/sledilnik/data/master/csv/stats.csv).\n",
    "\n",
    "Napiši program, ki iz teh podatkov sestavi podatkovno tabelo z urejenimi dnevnimi podatki o številu okužb v celotni Sloveniji. Podatkovna tabela naj vsebuje naslednji dve spremenljivki:\n",
    "\n",
    "* `datum` je dimenzijska spremenjljvika z datumom opazovanega števila okužb;\n",
    "* `kumulativne_okuzbe` je merjena spremenljivka, ki za izbrano regijo poda kumulatinvo število okužb Covid-19 do izbranega datuma.\n",
    "\n",
    "Iz te osnovne tabele podatkov sestavi novo podatkovno tabelo, ki za posamezni mesec v opazovanem obdobju izračuna maksimalno število okužb v enem dnevu tega meseca. Nova tabela naj torej vsebuje dve spremenljivki:\n",
    "\n",
    "* `mesec` je dimenzijska spremenljivka, ki določi mesec opazovanja;\n",
    "* `max_dnevne_okuzbe` je numerična spremenljivka, ki poda maksimalno število dnevnih okužb v izbranem mesecu.\n",
    "\n",
    "Opomba in namig: Ta naloga je nadaljevanje naloge iz zvezka za predavanja o urejanju podatkov."
   ]
  },
  {
   "cell_type": "code",
   "execution_count": null,
   "metadata": {},
   "outputs": [],
   "source": []
  },
  {
   "cell_type": "markdown",
   "metadata": {},
   "source": [
    "### 4. naloga - Prebivalstvo in okužbe\n",
    "\n",
    "Statistični urad Slovenije v svoji podatkovni bazi [SiStat](https://pxweb.stat.si/) ponuja podatke o številu prebivalcev v posameznih statističnih regijah in celotni Sloveniji po polletjih. Poišči te podatke v bazi in jih izvozi v obliko preglednice Excel: pri tem upoštevaj vse razpoložljive podatke od prvega polletja 2020. Nato jih uredi v podatkovno tabelo s stolpci `polletje`, `regija` in `prebivalstvo`.\n",
    "\n",
    "Uporabi podatke iz te tabele in tabele sestavljene v prejšnji nalogi za izračun _deleža_ okuženih prebivalcev v posamezni regiji in celotni Sloveniji."
   ]
  },
  {
   "cell_type": "code",
   "execution_count": null,
   "metadata": {},
   "outputs": [],
   "source": []
  }
 ],
 "metadata": {
  "kernelspec": {
   "display_name": "venv",
   "language": "python",
   "name": "python3"
  },
  "language_info": {
   "codemirror_mode": {
    "name": "ipython",
    "version": 3
   },
   "file_extension": ".py",
   "mimetype": "text/x-python",
   "name": "python",
   "nbconvert_exporter": "python",
   "pygments_lexer": "ipython3",
   "version": "3.12.2"
  }
 },
 "nbformat": 4,
 "nbformat_minor": 2
}
