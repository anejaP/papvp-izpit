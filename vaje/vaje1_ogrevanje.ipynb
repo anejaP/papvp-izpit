{
 "cells": [
  {
   "cell_type": "markdown",
   "metadata": {},
   "source": [
    "# Vaje 1\n",
    "\n",
    "## Ogrevanje\n",
    "\n",
    "### Naloga 1"
   ]
  },
  {
   "cell_type": "code",
   "execution_count": 1,
   "metadata": {},
   "outputs": [
    {
     "name": "stdout",
     "output_type": "stream",
     "text": [
      "\n",
      "apa\n",
      "ApA\n",
      "t\n",
      "bepesepedapa\n",
      "pipikapapopoloponipicapa\n",
      "popopopotopovapanjepe\n",
      "stepepepenapa smepetapanapa\n",
      "Topolepe jepe papa kapar cepelapa popoveped.\n"
     ]
    }
   ],
   "source": [
    "def papajscina(besedilo):\n",
    "    novo = ''\n",
    "    if besedilo == '':\n",
    "        return ''\n",
    "    for crka in besedilo:\n",
    "        if crka in 'aeiouAEIOU':\n",
    "            novo += crka + 'p' + crka\n",
    "        else:\n",
    "            novo += crka\n",
    "    return novo\n",
    "\n",
    "print(papajscina(''))\n",
    "print(papajscina('a'))\n",
    "print(papajscina('A'))\n",
    "print(papajscina('t'))\n",
    "print(papajscina('beseda'))\n",
    "print(papajscina('pikapolonica'))\n",
    "print(papajscina('popotovanje'))\n",
    "print(papajscina('stepena smetana'))\n",
    "print(papajscina('Tole je pa kar cela poved.'))"
   ]
  },
  {
   "cell_type": "markdown",
   "metadata": {},
   "source": [
    "### Naloga 2"
   ]
  },
  {
   "cell_type": "code",
   "execution_count": 2,
   "metadata": {},
   "outputs": [
    {
     "name": "stdout",
     "output_type": "stream",
     "text": [
      "[1, 2, 3, 4, 5]\n",
      "[1, 3, 6, 10, 15]\n",
      "[]\n",
      "[42]\n",
      "[1, 3, 6, 6, 11]\n"
     ]
    }
   ],
   "source": [
    "def vmesne_vsote(podatki):\n",
    "    nov = []\n",
    "    vsota = 0\n",
    "    if podatki == []:\n",
    "        return []\n",
    "    for i in range(len(podatki)):\n",
    "        if podatki[i] <= 0:\n",
    "            vsota = vsota\n",
    "            nov.append(vsota)\n",
    "        else:\n",
    "            vsota += podatki[i]\n",
    "            nov.append(vsota)\n",
    "    return nov\n",
    "\n",
    "print(vmesne_vsote([1, 1, 1, 1, 1]))\n",
    "print(vmesne_vsote([1, 2, 3, 4, 5]))\n",
    "print(vmesne_vsote([]))\n",
    "print(vmesne_vsote([42]))\n",
    "print(vmesne_vsote([1, 2, 3, -1, 5]))\n"
   ]
  },
  {
   "cell_type": "markdown",
   "metadata": {},
   "source": [
    "### Naloga 3"
   ]
  },
  {
   "cell_type": "code",
   "execution_count": 3,
   "metadata": {},
   "outputs": [
    {
     "name": "stdout",
     "output_type": "stream",
     "text": [
      "{1: [2], 5: [0, 6, 4], 2: [3, 3], 7: [3], 8: [1]}\n"
     ]
    }
   ],
   "source": [
    "def unija_slovarjev(slovarji):\n",
    "    nov_slovar = {}\n",
    "    for slovar in slovarji:\n",
    "        for kljuc, vrednost in slovar.items():\n",
    "            if kljuc not in nov_slovar:\n",
    "                nov_slovar[kljuc] = []  # Ustvari nov seznam, če ključ še ne obstaja\n",
    "            nov_slovar[kljuc].append(vrednost)\n",
    "    return nov_slovar\n",
    "\n",
    "print(unija_slovarjev([{1: 2, 5: 0}, {2: 3, 5: 6, 7: 3}, {2: 3, 8: 1, 5: 4}]))"
   ]
  },
  {
   "cell_type": "markdown",
   "metadata": {},
   "source": [
    "### Naloga 4"
   ]
  },
  {
   "cell_type": "code",
   "execution_count": 11,
   "metadata": {},
   "outputs": [
    {
     "name": "stdout",
     "output_type": "stream",
     "text": [
      "['12222222', '12444444', '12555555']\n"
     ]
    }
   ],
   "source": [
    "def nagrajenci(redovalnica):\n",
    "    povprecja = {}\n",
    "    for vpisna, ocene in redovalnica.items():\n",
    "        if len(ocene) == 0:\n",
    "            break\n",
    "        povp = float(round(sum(ocene) / len(ocene),1))\n",
    "        povprecja[vpisna] = povp\n",
    "    najvisje_povprecje = max(povprecja.values())\n",
    "    nagrajenci = []\n",
    "    for vpisna, povp in povprecja.items():\n",
    "        if povp == najvisje_povprecje:\n",
    "            nagrajenci.append(vpisna)\n",
    "    return nagrajenci\n",
    "\n",
    "redovalnica = {\n",
    "    \"12111111\": [1, 2, 1, 2], \n",
    "    \"12222222\": [8, 8, 8, 8], \n",
    "    \"12333333\": [5, 10], \n",
    "    \"12444444\": [6, 10, 6, 10, 6, 10], \n",
    "    \"12555555\": [8],\n",
    "    \"12666666\": [],\n",
    "    \"12777777\": [6, 7, 8, 5],\n",
    "    \"12888888\": [9, 6, 10, 6, 8, 8, 8, 8, 8, 8, 8, 8, 7, 8, 8, 8, 9, 9, 7, 8]\n",
    "}\n",
    "print(nagrajenci(redovalnica))"
   ]
  },
  {
   "cell_type": "markdown",
   "metadata": {},
   "source": [
    "### Naloga 5\n"
   ]
  },
  {
   "cell_type": "code",
   "execution_count": 5,
   "metadata": {},
   "outputs": [
    {
     "name": "stdout",
     "output_type": "stream",
     "text": [
      "209\n"
     ]
    }
   ],
   "source": [
    "def odstrani_prazne_vrstice(vhodna, izhodna):\n",
    "    vh = open(vhodna,'r')\n",
    "    iz = open(izhodna,'w')\n",
    "    kitice = []\n",
    "    for vrstica in vh:\n",
    "        if vrstica.strip():\n",
    "            kitice.append(vrstica)\n",
    "    return iz.write(''.join(kitice))\n",
    "\n",
    "\n",
    "print(odstrani_prazne_vrstice('vhodna.txt', 'izhodna.txt'))\n"
   ]
  },
  {
   "cell_type": "markdown",
   "metadata": {},
   "source": [
    "### Naloga 6\n"
   ]
  },
  {
   "cell_type": "code",
   "execution_count": null,
   "metadata": {},
   "outputs": [],
   "source": []
  }
 ],
 "metadata": {
  "kernelspec": {
   "display_name": "venv",
   "language": "python",
   "name": "python3"
  },
  "language_info": {
   "codemirror_mode": {
    "name": "ipython",
    "version": 3
   },
   "file_extension": ".py",
   "mimetype": "text/x-python",
   "name": "python",
   "nbconvert_exporter": "python",
   "pygments_lexer": "ipython3",
   "version": "3.12.2"
  }
 },
 "nbformat": 4,
 "nbformat_minor": 2
}
