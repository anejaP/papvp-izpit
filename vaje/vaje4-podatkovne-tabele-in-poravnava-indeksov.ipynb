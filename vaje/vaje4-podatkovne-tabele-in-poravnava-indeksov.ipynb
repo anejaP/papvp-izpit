{
 "cells": [
  {
   "cell_type": "code",
   "execution_count": 2,
   "metadata": {
    "metadata": {}
   },
   "outputs": [],
   "source": [
    "# uvoz modulov\n",
    "import pandas as pd"
   ]
  },
  {
   "cell_type": "markdown",
   "metadata": {},
   "source": [
    "# Podatkovne tabele in poravnava indeksov"
   ]
  },
  {
   "cell_type": "markdown",
   "metadata": {},
   "source": [
    "## Poravnava indeksov"
   ]
  },
  {
   "cell_type": "markdown",
   "metadata": {},
   "source": [
    "### Kdaj imamo lahko težave s poravnavo indeksov?\n",
    "\n",
    "1. Sestavi zaporedje kvadratov `kvadrati` naravnih števil od 0 do 20. Izračunati želimo zaporedje razlik : $x_1 - x_0$, $x_2 - x_1$, ...., $x_{20} - x_{19}$.\n",
    "2. Ustvari novo zaporedje, ki je sestavljeno iz kvadratov, zamaknjenih za ena \"navzgor\" - poravnati želimo 0 z 1, 1 s 4, 4 z 9, ...\n",
    "3. Ustvari podatkovno tabelo iz obeh zaporedij. \n",
    "4. Dodaš nov stolpec z razlikami, kot je opisano zgoraj. \n",
    "\n",
    "Preveri rezultat in razmisli: smo dobili pričakovani rezultat in zakaj (ne)? Kaj se zgodi s podatkovnim tipom zamaknjenega stolpca in zakaj?"
   ]
  },
  {
   "cell_type": "code",
   "execution_count": 5,
   "metadata": {
    "metadata": {}
   },
   "outputs": [
    {
     "name": "stdout",
     "output_type": "stream",
     "text": [
      "0       0\n",
      "1       1\n",
      "2       4\n",
      "3       9\n",
      "4      16\n",
      "5      25\n",
      "6      36\n",
      "7      49\n",
      "8      64\n",
      "9      81\n",
      "10    100\n",
      "11    121\n",
      "12    144\n",
      "13    169\n",
      "14    196\n",
      "15    225\n",
      "16    256\n",
      "17    289\n",
      "18    324\n",
      "19    361\n",
      "20    400\n",
      "dtype: int64\n"
     ]
    }
   ],
   "source": [
    "vrednosti = [i**2 for i in range(21)]\n",
    "kvadrati = pd.Series(vrednosti)\n",
    "print(kvadrati)"
   ]
  },
  {
   "cell_type": "code",
   "execution_count": 10,
   "metadata": {},
   "outputs": [
    {
     "name": "stdout",
     "output_type": "stream",
     "text": [
      "0       1\n",
      "1       4\n",
      "2       9\n",
      "3      16\n",
      "4      25\n",
      "5      36\n",
      "6      49\n",
      "7      64\n",
      "8      81\n",
      "9     100\n",
      "10    121\n",
      "11    144\n",
      "12    169\n",
      "13    196\n",
      "14    225\n",
      "15    256\n",
      "16    289\n",
      "17    324\n",
      "18    361\n",
      "19    400\n",
      "dtype: int64\n"
     ]
    }
   ],
   "source": [
    "kvadrati1 = pd.Series(vrednosti[1:])\n",
    "print(kvadrati1)"
   ]
  },
  {
   "cell_type": "code",
   "execution_count": 14,
   "metadata": {},
   "outputs": [
    {
     "name": "stdout",
     "output_type": "stream",
     "text": [
      "    kvadrat  naslednji kvadrat\n",
      "0         0                1.0\n",
      "1         1                4.0\n",
      "2         4                9.0\n",
      "3         9               16.0\n",
      "4        16               25.0\n",
      "5        25               36.0\n",
      "6        36               49.0\n",
      "7        49               64.0\n",
      "8        64               81.0\n",
      "9        81              100.0\n",
      "10      100              121.0\n",
      "11      121              144.0\n",
      "12      144              169.0\n",
      "13      169              196.0\n",
      "14      196              225.0\n",
      "15      225              256.0\n",
      "16      256              289.0\n",
      "17      289              324.0\n",
      "18      324              361.0\n",
      "19      361              400.0\n",
      "20      400                NaN\n"
     ]
    }
   ],
   "source": [
    "pt = pd.DataFrame({\"kvadrat\":kvadrati, \"naslednji kvadrat\":kvadrati1})\n",
    "print(pt)"
   ]
  },
  {
   "cell_type": "code",
   "execution_count": 26,
   "metadata": {},
   "outputs": [
    {
     "name": "stdout",
     "output_type": "stream",
     "text": [
      "    kvadrat  naslednji kvadrat  razlike\n",
      "0         0                1.0      1.0\n",
      "1         1                4.0      3.0\n",
      "2         4                9.0      5.0\n",
      "3         9               16.0      7.0\n",
      "4        16               25.0      9.0\n",
      "5        25               36.0     11.0\n",
      "6        36               49.0     13.0\n",
      "7        49               64.0     15.0\n",
      "8        64               81.0     17.0\n",
      "9        81              100.0     19.0\n",
      "10      100              121.0     21.0\n",
      "11      121              144.0     23.0\n",
      "12      144              169.0     25.0\n",
      "13      169              196.0     27.0\n",
      "14      196              225.0     29.0\n",
      "15      225              256.0     31.0\n",
      "16      256              289.0     33.0\n",
      "17      289              324.0     35.0\n",
      "18      324              361.0     37.0\n",
      "19      361              400.0     39.0\n",
      "20      400                NaN      NaN\n"
     ]
    }
   ],
   "source": [
    "vr_razlik = kvadrati1 - kvadrati\n",
    "pt[\"razlike\"] = vr_razlik\n",
    "print(pt)"
   ]
  },
  {
   "cell_type": "markdown",
   "metadata": {},
   "source": [
    "5. Popravi indekse drugega (zamaknjenega) zaporedja, da bo število 1 na ničtem indeksu, 4 na prvem, 9 na drugem, ...\n",
    "6. Ponovno ustvari tabelo in izračunaj razlike. (Vsi elementi morajo biti večji od nič).\n",
    "7. Izpiši podatkovno tabelo z vsemi tremi stolpci."
   ]
  },
  {
   "cell_type": "code",
   "execution_count": 27,
   "metadata": {
    "metadata": {}
   },
   "outputs": [
    {
     "data": {
      "text/plain": [
       "1       1\n",
       "2       4\n",
       "3       9\n",
       "4      16\n",
       "5      25\n",
       "6      36\n",
       "7      49\n",
       "8      64\n",
       "9      81\n",
       "10    100\n",
       "11    121\n",
       "12    144\n",
       "13    169\n",
       "14    196\n",
       "15    225\n",
       "16    256\n",
       "17    289\n",
       "18    324\n",
       "19    361\n",
       "20    400\n",
       "dtype: int64"
      ]
     },
     "execution_count": 27,
     "metadata": {},
     "output_type": "execute_result"
    }
   ],
   "source": [
    "kvadrati[1:]"
   ]
  },
  {
   "cell_type": "markdown",
   "metadata": {},
   "source": [
    "### Kako združiti zaporedja?\n",
    "\n",
    "Dani so podatki o študentih, ki so vpisani v predmet ter ocenah prvega izpitnega roka:\n",
    "\n",
    "* seznam `sez_studenti` vsebuje pare oblike `(<vpisna številka>, <ime>)`, \n",
    "* seznam `sez_ocene` vsebuje pare oblike `(<vpisna številka>, <ocena>)`."
   ]
  },
  {
   "cell_type": "code",
   "execution_count": 29,
   "metadata": {
    "metadata": {}
   },
   "outputs": [],
   "source": [
    "sez_studenti = [(\"124174\", \"Maja\"), (\"223974\", \"Tilen\"), (\"341842\", \"Petra\"), (\"418623\", \"Blaž\"), (\"527421\", \"Katja\"), (\"620516\", \"Benjamin\"), (\"729516\", \"Urban\"), (\"828651\", \"Pija\")]\n",
    "sez_ocene = [(\"124174\", 5), (\"341842\", 7), (\"527421\", 10), (\"729516\", 9), (\"418623\", 8), (\"915715\", 6), (\"014153\", 7)]"
   ]
  },
  {
   "cell_type": "markdown",
   "metadata": {},
   "source": [
    "Ustvari zaporedji `studenti` ter `ocene`, ki imata za indeks vpisno številko:"
   ]
  },
  {
   "cell_type": "code",
   "execution_count": 33,
   "metadata": {
    "metadata": {}
   },
   "outputs": [
    {
     "name": "stdout",
     "output_type": "stream",
     "text": [
      "124174        Maja\n",
      "223974       Tilen\n",
      "341842       Petra\n",
      "418623        Blaž\n",
      "527421       Katja\n",
      "620516    Benjamin\n",
      "729516       Urban\n",
      "828651        Pija\n",
      "dtype: object\n",
      "124174     5\n",
      "341842     7\n",
      "527421    10\n",
      "729516     9\n",
      "418623     8\n",
      "915715     6\n",
      "014153     7\n",
      "dtype: int64\n"
     ]
    }
   ],
   "source": [
    "imena = [elt2 for elt1,elt2 in sez_studenti]\n",
    "st = [elt1 for elt1,elt2 in sez_studenti]\n",
    "studenti = pd.Series(imena, index=st)\n",
    "print(studenti)\n",
    "\n",
    "vr = [elt2 for elt1,elt2 in sez_ocene]\n",
    "st = [elt1 for elt1,elt2 in sez_ocene]\n",
    "ocene = pd.Series(vr, index=st)\n",
    "print(ocene)"
   ]
  },
  {
   "cell_type": "markdown",
   "metadata": {},
   "source": [
    "Ustvari podatkovno tabelo `rezultati_1` s stolpcema `student` in `ocena`. Kako `pandas` združi stolpca v isto tabelo?"
   ]
  },
  {
   "cell_type": "code",
   "execution_count": 42,
   "metadata": {
    "metadata": {}
   },
   "outputs": [
    {
     "name": "stdout",
     "output_type": "stream",
     "text": [
      "         student  ocena\n",
      "014153       NaN    7.0\n",
      "124174      Maja    5.0\n",
      "223974     Tilen    NaN\n",
      "341842     Petra    7.0\n",
      "418623      Blaž    8.0\n",
      "527421     Katja   10.0\n",
      "620516  Benjamin    NaN\n",
      "729516     Urban    9.0\n",
      "828651      Pija    NaN\n",
      "915715       NaN    6.0\n"
     ]
    }
   ],
   "source": [
    "rezultati_1 = pd.DataFrame({\"student\":studenti, \"ocena\":ocene})\n",
    "print(rezultati_1)"
   ]
  },
  {
   "cell_type": "markdown",
   "metadata": {},
   "source": [
    "V tabeli `rezultati_2` združi zaporedji tako, da bodo v njej le študenti, ki so vpisani v predmet:\n",
    "<details><summary>Namig</summary>\n",
    "Oglej si, kako deluje metoda <code>align</code>.\n",
    "</details>"
   ]
  },
  {
   "cell_type": "code",
   "execution_count": 43,
   "metadata": {
    "metadata": {}
   },
   "outputs": [
    {
     "name": "stdout",
     "output_type": "stream",
     "text": [
      "         student  ocena\n",
      "124174      Maja    5.0\n",
      "223974     Tilen    NaN\n",
      "341842     Petra    7.0\n",
      "418623      Blaž    8.0\n",
      "527421     Katja   10.0\n",
      "620516  Benjamin    NaN\n",
      "729516     Urban    9.0\n",
      "828651      Pija    NaN\n"
     ]
    }
   ],
   "source": [
    "z1, z2 = studenti.align(ocene, join=\"left\")\n",
    "rezultati_2 = pd.DataFrame({\"student\": z1, \"ocena\": z2})\n",
    "print(rezultati_2)"
   ]
  },
  {
   "cell_type": "markdown",
   "metadata": {},
   "source": [
    "V tabeli `rezultati_3` združi zaporedji tako, da bodo v njej le študenti, ki so pisali prvi izpit:"
   ]
  },
  {
   "cell_type": "code",
   "execution_count": 44,
   "metadata": {
    "metadata": {}
   },
   "outputs": [
    {
     "name": "stdout",
     "output_type": "stream",
     "text": [
      "       student  ocena\n",
      "124174    Maja      5\n",
      "341842   Petra      7\n",
      "527421   Katja     10\n",
      "729516   Urban      9\n",
      "418623    Blaž      8\n",
      "915715     NaN      6\n",
      "014153     NaN      7\n"
     ]
    }
   ],
   "source": [
    "z1, z2 = studenti.align(ocene, join=\"right\")\n",
    "rezultati_3 = pd.DataFrame({\"student\": z1, \"ocena\": z2})\n",
    "print(rezultati_3)"
   ]
  },
  {
   "cell_type": "markdown",
   "metadata": {},
   "source": [
    "V tabeli `rezultati_4` združi zaporedji tako, da bodo v njej le študenti, ki so vpisani v predmet in so pisali prvi izpit:"
   ]
  },
  {
   "cell_type": "code",
   "execution_count": 45,
   "metadata": {
    "metadata": {}
   },
   "outputs": [
    {
     "name": "stdout",
     "output_type": "stream",
     "text": [
      "       student  ocena\n",
      "124174    Maja      5\n",
      "341842   Petra      7\n",
      "418623    Blaž      8\n",
      "527421   Katja     10\n",
      "729516   Urban      9\n"
     ]
    }
   ],
   "source": [
    "z1, z2 = studenti.align(ocene, join=\"inner\")\n",
    "rezultati_4 = pd.DataFrame({\"student\": z1, \"ocena\": z2})\n",
    "print(rezultati_4)"
   ]
  },
  {
   "cell_type": "markdown",
   "metadata": {},
   "source": [
    "### Še en primer"
   ]
  },
  {
   "cell_type": "markdown",
   "metadata": {},
   "source": [
    "Dane so meritve temperature zraka in višine vode v Kopru 29. oktobra med 6. in 12. uro. Temperatura je merjena vsako polno uro (tj. ob 6:00, 7:00, ...), višina vodostaja pa 10, 30 in 50 minut čez polno uro (tj. 6:10, 6:30, 6:50, 7:10, ...). "
   ]
  },
  {
   "cell_type": "code",
   "execution_count": 46,
   "metadata": {
    "metadata": {}
   },
   "outputs": [],
   "source": [
    "sez_temp = [12, 11.8, 13.4, 15.9, 18.6, 18.7, 19.5]\n",
    "sez_voda = [252, 257, 260, 262, 262, 261, 259, 258, 256, 252, 249, 244, 238, 233, 226, 218, 210, 203]"
   ]
  },
  {
   "cell_type": "markdown",
   "metadata": {},
   "source": [
    "Sestavi časovni vrsti `indeks_temp` in `indeks_voda`, ki vsebujeta čase meritev temperature in vode. Nato ustvari zaporedji temperatur in višine vodostaja ter jima nastavi ustrezna indeksa.\n",
    "\n",
    "<details><summary>Ne veš kako se lotiti?</summary>\n",
    "Pri tem si lahko pomagaš z indeksiranjem časovnega obdobja (angl. date range), lahko pa se poglobiš v <a href=\"https://pandas.pydata.org/pandas-docs/stable/user_guide/timeseries.html#combining-aliases\">dokumentacijo</a> in poiščeš pomoč za ustvarjanje časovnih točk v poljubnih intervalih.\n",
    "</details>"
   ]
  },
  {
   "cell_type": "code",
   "execution_count": 68,
   "metadata": {
    "metadata": {}
   },
   "outputs": [
    {
     "name": "stdout",
     "output_type": "stream",
     "text": [
      "2024-10-29 06:00:00    12.0\n",
      "2024-10-29 07:00:00    11.8\n",
      "2024-10-29 08:00:00    13.4\n",
      "2024-10-29 09:00:00    15.9\n",
      "2024-10-29 10:00:00    18.6\n",
      "2024-10-29 11:00:00    18.7\n",
      "2024-10-29 12:00:00    19.5\n",
      "Freq: h, dtype: float64\n",
      "2024-10-29 06:10:00    252\n",
      "2024-10-29 06:30:00    257\n",
      "2024-10-29 06:50:00    260\n",
      "2024-10-29 07:10:00    262\n",
      "2024-10-29 07:30:00    262\n",
      "2024-10-29 07:50:00    261\n",
      "2024-10-29 08:10:00    259\n",
      "2024-10-29 08:30:00    258\n",
      "2024-10-29 08:50:00    256\n",
      "2024-10-29 09:10:00    252\n",
      "2024-10-29 09:30:00    249\n",
      "2024-10-29 09:50:00    244\n",
      "2024-10-29 10:10:00    238\n",
      "2024-10-29 10:30:00    233\n",
      "2024-10-29 10:50:00    226\n",
      "2024-10-29 11:10:00    218\n",
      "2024-10-29 11:30:00    210\n",
      "2024-10-29 11:50:00    203\n",
      "Freq: 20min, dtype: int64\n"
     ]
    }
   ],
   "source": [
    "ure1 = pd.date_range('2024-10-29 06:00:00', periods=7, freq=\"1h\")\n",
    "ure2 = pd.date_range('2024-10-29 06:10:00', periods=18, freq=\"20min\")\n",
    "indeks_temp = pd.Series(sez_temp, index=ure1)\n",
    "indeks_voda = pd.Series(sez_voda, index=ure2)\n",
    "print(indeks_temp)\n",
    "print(indeks_voda)"
   ]
  },
  {
   "cell_type": "markdown",
   "metadata": {},
   "source": [
    "Na podlagi zaporedij ustvari tabelo s stolpcema `temperature` in `visine`, ki ima za indeks časovne točke.\n",
    "\n",
    "Kako izgleda dobljena tabela?"
   ]
  },
  {
   "cell_type": "code",
   "execution_count": 69,
   "metadata": {
    "metadata": {}
   },
   "outputs": [
    {
     "name": "stdout",
     "output_type": "stream",
     "text": [
      "                     temperature  visine\n",
      "2024-10-29 06:00:00         12.0     NaN\n",
      "2024-10-29 06:10:00          NaN   252.0\n",
      "2024-10-29 06:30:00          NaN   257.0\n",
      "2024-10-29 06:50:00          NaN   260.0\n",
      "2024-10-29 07:00:00         11.8     NaN\n",
      "2024-10-29 07:10:00          NaN   262.0\n",
      "2024-10-29 07:30:00          NaN   262.0\n",
      "2024-10-29 07:50:00          NaN   261.0\n",
      "2024-10-29 08:00:00         13.4     NaN\n",
      "2024-10-29 08:10:00          NaN   259.0\n",
      "2024-10-29 08:30:00          NaN   258.0\n",
      "2024-10-29 08:50:00          NaN   256.0\n",
      "2024-10-29 09:00:00         15.9     NaN\n",
      "2024-10-29 09:10:00          NaN   252.0\n",
      "2024-10-29 09:30:00          NaN   249.0\n",
      "2024-10-29 09:50:00          NaN   244.0\n",
      "2024-10-29 10:00:00         18.6     NaN\n",
      "2024-10-29 10:10:00          NaN   238.0\n",
      "2024-10-29 10:30:00          NaN   233.0\n",
      "2024-10-29 10:50:00          NaN   226.0\n",
      "2024-10-29 11:00:00         18.7     NaN\n",
      "2024-10-29 11:10:00          NaN   218.0\n",
      "2024-10-29 11:30:00          NaN   210.0\n",
      "2024-10-29 11:50:00          NaN   203.0\n",
      "2024-10-29 12:00:00         19.5     NaN\n"
     ]
    }
   ],
   "source": [
    "podatkovna_tabela = pd.DataFrame({\"temperature\":indeks_temp,\"visine\":indeks_voda})\n",
    "print(podatkovna_tabela)"
   ]
  },
  {
   "cell_type": "markdown",
   "metadata": {},
   "source": [
    "Zaporedji poravnaj tako, da zaporedju temperatur nastaviš indeks zaporedja voda. \n",
    "\n",
    "<details><summary>Namig</summary>Oglej si delovanje metode <code>reindex</code>.</details>\n",
    "\n",
    "Ponovno ju združi v tabelo, podobno tisti zgoraj. Kaj opaziš? Katere podatke obdržimo in kakšne so vrednosti obeh stolpcev? "
   ]
  },
  {
   "cell_type": "code",
   "execution_count": 77,
   "metadata": {
    "metadata": {}
   },
   "outputs": [
    {
     "name": "stdout",
     "output_type": "stream",
     "text": [
      "                     temperature  visine\n",
      "2024-10-29 06:10:00         12.0     252\n",
      "2024-10-29 06:30:00         11.8     257\n",
      "2024-10-29 06:50:00         11.8     260\n",
      "2024-10-29 07:10:00         11.8     262\n",
      "2024-10-29 07:30:00         13.4     262\n",
      "2024-10-29 07:50:00         13.4     261\n",
      "2024-10-29 08:10:00         13.4     259\n",
      "2024-10-29 08:30:00         15.9     258\n",
      "2024-10-29 08:50:00         15.9     256\n",
      "2024-10-29 09:10:00         15.9     252\n",
      "2024-10-29 09:30:00         18.6     249\n",
      "2024-10-29 09:50:00         18.6     244\n",
      "2024-10-29 10:10:00         18.6     238\n",
      "2024-10-29 10:30:00         18.7     233\n",
      "2024-10-29 10:50:00         18.7     226\n",
      "2024-10-29 11:10:00         18.7     218\n",
      "2024-10-29 11:30:00         19.5     210\n",
      "2024-10-29 11:50:00         19.5     203\n"
     ]
    }
   ],
   "source": [
    "temp = indeks_temp.reindex(ure2, method=\"nearest\")\n",
    "pt1 = pd.DataFrame({\"temperature\":temp,\"visine\":indeks_voda})\n",
    "print(pt1)"
   ]
  },
  {
   "cell_type": "markdown",
   "metadata": {},
   "source": [
    "Zaporedji sedaj poravnaj tako, da zaporedju višin vode nastaviš indeks zaporedja temperatur. Dobimo isti nabor podatkov?\n",
    "\n",
    "Naštej in preizkusi različne načine obravnave/zamenjave manjkajočih vrednosti. Kakšne so razlike?"
   ]
  },
  {
   "cell_type": "code",
   "execution_count": 78,
   "metadata": {
    "metadata": {}
   },
   "outputs": [
    {
     "name": "stdout",
     "output_type": "stream",
     "text": [
      "                     temperature  visine\n",
      "2024-10-29 06:00:00         12.0     252\n",
      "2024-10-29 07:00:00         11.8     262\n",
      "2024-10-29 08:00:00         13.4     259\n",
      "2024-10-29 09:00:00         15.9     252\n",
      "2024-10-29 10:00:00         18.6     238\n",
      "2024-10-29 11:00:00         18.7     218\n",
      "2024-10-29 12:00:00         19.5     203\n"
     ]
    }
   ],
   "source": [
    "voda = indeks_voda.reindex(ure1, method=\"nearest\")\n",
    "pt2 = pd.DataFrame({\"temperature\":indeks_temp,\"visine\":voda})\n",
    "print(pt2)"
   ]
  },
  {
   "cell_type": "markdown",
   "metadata": {},
   "source": [
    "## Naloge iz podatkovnih tabel"
   ]
  },
  {
   "cell_type": "markdown",
   "metadata": {},
   "source": [
    "### 1. naloga: ITM\n",
    "\n",
    "Iz zaporedij pri nalogi ITM, izračunanih na drugih vajah, sestavi podatkovno tabelo s štirimi stolpci, `ime`, `visina`, `teza` in `ITM`. Spremeni imena vrstic tako, da ustrezajo imenom oseb in nato zbriši stolpec ime. Indeksiraj dobljeno tabelo tako, da dobiš imena oseb, ki imajo ITM manj kot 26."
   ]
  },
  {
   "cell_type": "code",
   "execution_count": 90,
   "metadata": {
    "metadata": {}
   },
   "outputs": [
    {
     "name": "stdout",
     "output_type": "stream",
     "text": [
      "         visina  teza        ITM\n",
      "Aleš        180    87  26.851852\n",
      "Barbara     165    58  21.303949\n",
      "Ciril       160    65  25.390625\n",
      "Darja       193   100  26.846358\n",
      "         visina  teza        ITM\n",
      "Barbara     165    58  21.303949\n",
      "Ciril       160    65  25.390625\n"
     ]
    }
   ],
   "source": [
    "ime = [\"Aleš\", \"Barbara\", \"Ciril\", \"Darja\"]\n",
    "visine = pd.Series([180, 165, 160, 193],index=ime)\n",
    "teze = pd.Series([87, 58, 65, 100],index=ime)\n",
    "itm = teze / ((visine/100) ** 2)\n",
    "pt3 = pd.DataFrame({\"visina\": visine, \"teza\": teze, \"ITM\": itm})\n",
    "print(pt3)\n",
    "\n",
    "pod26 = itm[itm<26]\n",
    "pt4 = pd.DataFrame({\"visina\": visine, \"teza\": teze, \"ITM\": pod26})\n",
    "pt5 = pt4.dropna()\n",
    "print(pt5)"
   ]
  },
  {
   "cell_type": "markdown",
   "metadata": {},
   "source": [
    "### 2. naloga: naključna zaporedja\n",
    "Ustvari dve zaporedji `x` in `y` dolžine 250 tako, da s ponavljanjem naključno izbiraš naravna števila iz intervala $[0, 999]$. Označimo z $x_1, x_2, \\ldots, x_{250}$ in $y_1, y_2, \\ldots, y_{250}$ elemente zaporedij `x` in `y`. Izračunaj:\n",
    "\n",
    "* Zaporedje z elementi $y_2 - x_1, y_3 - x_2, \\ldots, y_{250} - x_{249}$.\n",
    "* Vsoto $\\sum_{i=1}^{249} e^{- x_{i+1}} / (x_i + 10)$.\n"
   ]
  },
  {
   "cell_type": "code",
   "execution_count": 93,
   "metadata": {
    "metadata": {}
   },
   "outputs": [],
   "source": [
    "import random\n",
    "\n",
    "x = pd.Series([random.randint(0,999) for i in range(250)])\n",
    "y = pd.Series([random.randint(0,999) for i in range(250)])"
   ]
  },
  {
   "cell_type": "markdown",
   "metadata": {},
   "source": [
    "### 3. naloga - temperature - 1. del\n",
    "\n",
    "Dana je podatkovna tabela `temperature` s podatki o povprečni dnevni temperaturi zraka (v Celzijevih stopinjah) v Ljubljani v obdobju od začetka leta 2010 do konca 2019."
   ]
  },
  {
   "cell_type": "code",
   "execution_count": 92,
   "metadata": {
    "metadata": {}
   },
   "outputs": [
    {
     "name": "stdout",
     "output_type": "stream",
     "text": [
      "           datum  povprecna_temperatura\n",
      "0     2010-01-01                    6.9\n",
      "1     2010-01-02                    2.5\n",
      "2     2010-01-03                   -0.5\n",
      "3     2010-01-04                   -3.3\n",
      "4     2010-01-05                   -1.5\n",
      "...          ...                    ...\n",
      "3647  2019-12-27                    3.0\n",
      "3648  2019-12-28                    0.7\n",
      "3649  2019-12-29                   -1.4\n",
      "3650  2019-12-30                   -2.3\n",
      "3651  2019-12-31                   -0.3\n",
      "\n",
      "[3652 rows x 2 columns]\n"
     ]
    }
   ],
   "source": [
    "temperature = pd.read_csv(\"https://kt.ijs.si/~ljupco/lectures/papvp-2324/temp-lj-2010-2019.csv\")\n",
    "print(temperature)"
   ]
  },
  {
   "cell_type": "markdown",
   "metadata": {},
   "source": [
    "* Iz podatkovne tabele sestavi zaporedje `temp_lj`, kjer so indeksi datumi v opazovanem obdobju in vrednost elementa enaka povprečni temperaturi na ustrezen datum.\n",
    "    * preveri pogostost (angl. _resolution_) indeksa (pričakujemo rezultat `\"day\"`)\n",
    "    * temperaturo na božič 2015 (25. december)\n",
    "    * izpiši temperature v juniju 2010\n",
    "    * izpiši temperature med 19. decembrom 2012 in 3. januarjem 2013\n",
    "* Z indeksiranjem zaporedja `temp_lj` sestavi novo zaporedje `temp_lj_petek` povprečnih temperatur ob petkih.\n",
    "* Z indeksiranjem zaporedja `temp_lj` sestavi novo zaporedje `temp_lj_13` povprečnih temperatur za vsak datum, kjer je dan v mesecu enak 13.\n",
    "* S poravnavo zaporedij `temp_lj_petek` in `temp_lj_13` sestavi novo zaporedje `temp_lj_petek_13` s povprečnimi temperaturami za vsak petek trinajstega v opazovanem obdobju.\n",
    "* Z indeksiranjem zaporedja `temp_lj_petek_13` izpiši datuma za najbolj vroč in najbolj hladen petek trinajstega.\n",
    "* Izračunaj povprečno temperaturo za datume, ki padejo na petek trinajstega v opazovanem obdobju."
   ]
  },
  {
   "cell_type": "markdown",
   "metadata": {},
   "source": [
    "### 4. naloga - temperature - 2. del\n",
    "\n",
    "Uporabi **tabelo** `temperature` iz prejšnje naloge. Stolpec `datum` popravi, da bo tipa `datetime`.\n",
    "\n",
    "* Izpiši datume najbolj vročih in najbolj hladnih dni v opazovanem obdobju.\n",
    "* Izpiši datume s temperaturo, ki ne odstopa za več kot eno stopinjo Celzija od povprečne temperature v tem obdobju.\n",
    "* Sestavi funkcijo, ki za podano leto in mesec vrne povprečno temperaturo zraka.\n",
    "* Z uporabo te funkcije sestavi zaporedje povprečnih temperatur po mesecih (zaporedje naj vsebuje eno vrstico za vsak mesec vsakega leta).\n",
    "    <details><summary>Namig</summary>\n",
    "    Preveri, kako deluje metoda <a href=\"https://pandas.pydata.org/docs/reference/api/pandas.Series.apply.html\"><code>apply</code></a> na podatkovnih zaporedjih in okvirjih. Kako bi dobil vse mesece in leta v izbranem obdobju?\n",
    "    </details>\n",
    "* Izpiši mesece, ko je bila povprečna temperatura najvišja oziroma najnižja."
   ]
  }
 ],
 "metadata": {
  "kernelspec": {
   "display_name": "venv",
   "language": "python",
   "name": "python3"
  },
  "language_info": {
   "codemirror_mode": {
    "name": "ipython",
    "version": 3
   },
   "file_extension": ".py",
   "mimetype": "text/x-python",
   "name": "python",
   "nbconvert_exporter": "python",
   "pygments_lexer": "ipython3",
   "version": "3.12.6"
  }
 },
 "nbformat": 4,
 "nbformat_minor": 2
}
