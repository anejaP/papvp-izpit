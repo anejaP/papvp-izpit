{
 "cells": [
  {
   "cell_type": "markdown",
   "metadata": {},
   "source": [
    "## Izpeljani seznami\n",
    "### Naloga 1"
   ]
  },
  {
   "cell_type": "code",
   "execution_count": 7,
   "metadata": {},
   "outputs": [
    {
     "name": "stdout",
     "output_type": "stream",
     "text": [
      "[2, 4, 6, 8, 10]\n"
     ]
    }
   ],
   "source": [
    "def veckratniki(k,n):\n",
    "    return [i*k for i in range(1,n+1)]\n",
    "\n",
    "print(veckratniki(2,5))"
   ]
  },
  {
   "cell_type": "markdown",
   "metadata": {},
   "source": [
    "### Naloga 2"
   ]
  },
  {
   "cell_type": "code",
   "execution_count": 9,
   "metadata": {},
   "outputs": [
    {
     "name": "stdout",
     "output_type": "stream",
     "text": [
      "[4, 1, 0, 1, 4, 1, 0, 1, 4]\n",
      "[]\n"
     ]
    }
   ],
   "source": [
    "def kvadrati(stevila):\n",
    "    return [st**2 for st in stevila]\n",
    "\n",
    "print(kvadrati([2, 1, 0, -1, -2, -1, 0, 1, 2]))\n",
    "print(kvadrati([]))"
   ]
  },
  {
   "cell_type": "markdown",
   "metadata": {},
   "source": [
    "### Naloga 3"
   ]
  },
  {
   "cell_type": "code",
   "execution_count": 12,
   "metadata": {},
   "outputs": [
    {
     "name": "stdout",
     "output_type": "stream",
     "text": [
      "[2, 1, 0, 0, 1, 2]\n",
      "[1, 2, 3, 4, 5, 6]\n",
      "[]\n",
      "[]\n"
     ]
    }
   ],
   "source": [
    "def odstrani_negativne(stevila):\n",
    "    return [st for st in stevila if st>=0]\n",
    "\n",
    "print(odstrani_negativne([2, 1, 0, -1, -2, -1, 0, 1, 2]))\n",
    "print(odstrani_negativne([1, 2, 3, 4, 5, 6]))\n",
    "print(odstrani_negativne([-1, -2, -3, -4, -5, -6]))\n",
    "print(odstrani_negativne([]))"
   ]
  },
  {
   "cell_type": "markdown",
   "metadata": {},
   "source": [
    "### Naloga 4"
   ]
  },
  {
   "cell_type": "code",
   "execution_count": 14,
   "metadata": {},
   "outputs": [
    {
     "name": "stdout",
     "output_type": "stream",
     "text": [
      "['KOKOS', 'KRAVA', 'MAČKA', 'KRIČAČ']\n",
      "['   X', ' ']\n"
     ]
    }
   ],
   "source": [
    "def povecaj_crke(nizi):\n",
    "    return [niz.upper() for niz in nizi if len(niz) != 0]\n",
    "\n",
    "print(povecaj_crke([\"Kokos\", \"kraVa\", \"MAČKA\", \"kričač\"]))\n",
    "print(povecaj_crke([\"\", \"   x\", \"\", \"\", \" \"]))"
   ]
  },
  {
   "cell_type": "markdown",
   "metadata": {},
   "source": [
    "### Naloga 5"
   ]
  },
  {
   "cell_type": "code",
   "execution_count": 17,
   "metadata": {},
   "outputs": [
    {
     "name": "stdout",
     "output_type": "stream",
     "text": [
      "[4, 2, 1, 5, 5, 5, 3, 2, 3, 2]\n"
     ]
    }
   ],
   "source": [
    "import random\n",
    "def funkcija1(n,a,b):\n",
    "    return [random.randint(a,b) for _ in range(n)]\n",
    "\n",
    "print(funkcija1(10,1,6))"
   ]
  },
  {
   "cell_type": "markdown",
   "metadata": {},
   "source": [
    "### Naloga 6"
   ]
  },
  {
   "cell_type": "code",
   "execution_count": 19,
   "metadata": {},
   "outputs": [
    {
     "name": "stdout",
     "output_type": "stream",
     "text": [
      "[3, 6, 9, 12, 15]\n"
     ]
    }
   ],
   "source": [
    "def funkcija2(seznam,k):\n",
    "    return [el for el in seznam if el%k==0]\n",
    "\n",
    "print(funkcija2([1,2,3,4,6,8,9,10,12,14,15], 3))"
   ]
  },
  {
   "cell_type": "markdown",
   "metadata": {},
   "source": [
    "## Ostale izpeljane strukture\n",
    "### Naloga 7"
   ]
  },
  {
   "cell_type": "code",
   "execution_count": 20,
   "metadata": {},
   "outputs": [
    {
     "name": "stdout",
     "output_type": "stream",
     "text": [
      "{32, 1, 2, 4, 8, 16}\n"
     ]
    }
   ],
   "source": [
    "def potence2(n):\n",
    "    return {2**i for i in range(n+1)}\n",
    "\n",
    "print(potence2(5))"
   ]
  },
  {
   "cell_type": "markdown",
   "metadata": {},
   "source": [
    "### Naloga 8"
   ]
  },
  {
   "cell_type": "code",
   "execution_count": 21,
   "metadata": {},
   "outputs": [
    {
     "name": "stdout",
     "output_type": "stream",
     "text": [
      "{-8, 0, 2, 4}\n"
     ]
    }
   ],
   "source": [
    "def mnozica_sodih(stevila):\n",
    "    return {i for i in stevila if i%2==0}\n",
    "\n",
    "print(mnozica_sodih([1, 4, 5, 2, 7, -8, 5, 0, 101, 2, 1]))"
   ]
  },
  {
   "cell_type": "markdown",
   "metadata": {},
   "source": [
    "### Naloga 9"
   ]
  },
  {
   "cell_type": "code",
   "execution_count": 23,
   "metadata": {},
   "outputs": [
    {
     "name": "stdout",
     "output_type": "stream",
     "text": [
      "{1: 'ena', 2: 'dve', 3: 'tri', 11: 'enajst'}\n"
     ]
    }
   ],
   "source": [
    "def ustvari_slovar(seznam_parov):\n",
    "    return {k_i:v_i for k_i,v_i in seznam_parov}\n",
    "\n",
    "print(ustvari_slovar([(1, \"ena\"), (2, \"dve\"), (3, \"tri\"), (11, \"enajst\")]))"
   ]
  },
  {
   "cell_type": "markdown",
   "metadata": {},
   "source": [
    "### Naloga 10"
   ]
  },
  {
   "cell_type": "code",
   "execution_count": 28,
   "metadata": {},
   "outputs": [
    {
     "name": "stdout",
     "output_type": "stream",
     "text": [
      "{3: 1, 1: 2, 4: 3, 2: 4}\n"
     ]
    }
   ],
   "source": [
    "def obrni_slovar(slovar):\n",
    "    return {v:k for k,v in slovar.items()}\n",
    "\n",
    "print(obrni_slovar({1: 3, 2: 1, 3: 4, 4: 2}))"
   ]
  },
  {
   "cell_type": "markdown",
   "metadata": {},
   "source": [
    "### Naloga 11"
   ]
  },
  {
   "cell_type": "code",
   "execution_count": 33,
   "metadata": {},
   "outputs": [
    {
     "name": "stdout",
     "output_type": "stream",
     "text": [
      "{'jajca': 8, 'moka': 1000, 'mleko': 0}\n"
     ]
    }
   ],
   "source": [
    "def pomnozi(slovar,k):\n",
    "    return {kl:v*k for kl,v in slovar.items()}\n",
    "\n",
    "print(pomnozi({'jajca': 4, 'moka': 500, 'mleko': 0}, 2))"
   ]
  }
 ],
 "metadata": {
  "kernelspec": {
   "display_name": "venv",
   "language": "python",
   "name": "python3"
  },
  "language_info": {
   "codemirror_mode": {
    "name": "ipython",
    "version": 3
   },
   "file_extension": ".py",
   "mimetype": "text/x-python",
   "name": "python",
   "nbconvert_exporter": "python",
   "pygments_lexer": "ipython3",
   "version": "3.12.2"
  }
 },
 "nbformat": 4,
 "nbformat_minor": 2
}
