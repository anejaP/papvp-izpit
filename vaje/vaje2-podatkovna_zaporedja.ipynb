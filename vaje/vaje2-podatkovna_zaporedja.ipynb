{
 "cells": [
  {
   "cell_type": "markdown",
   "metadata": {},
   "source": [
    "# Knjižnica pandas - zaporedja in podatkovni tipi\n",
    "\n",
    "Za začetek uvozimo knjižnico `pandas`. Da nam ni treba ob vsaki uporabi funkcij iz knjižnice pred njimi pisati celega imena knjižnice, jo ponavadi uvozimo kar pod imenom `pd`.\n",
    "\n",
    "_Namig: uporabi obliko `import <knjiznica> as <ime>`._"
   ]
  },
  {
   "cell_type": "code",
   "execution_count": 2,
   "metadata": {},
   "outputs": [],
   "source": [
    "import pandas as pd\n",
    "import random\n",
    "import math"
   ]
  },
  {
   "cell_type": "markdown",
   "metadata": {},
   "source": [
    "Ustvari seznam kvadratov števil od 10 do 41. Pomagaj si z izpeljanimi seznami.\n",
    "\n",
    "Iz seznama nato ustvari podatkovno zaporedje (_Series_) in ga izpiši."
   ]
  },
  {
   "cell_type": "code",
   "execution_count": 3,
   "metadata": {},
   "outputs": [
    {
     "name": "stdout",
     "output_type": "stream",
     "text": [
      "10     100\n",
      "11     121\n",
      "12     144\n",
      "13     169\n",
      "14     196\n",
      "15     225\n",
      "16     256\n",
      "17     289\n",
      "18     324\n",
      "19     361\n",
      "20     400\n",
      "21     441\n",
      "22     484\n",
      "23     529\n",
      "24     576\n",
      "25     625\n",
      "26     676\n",
      "27     729\n",
      "28     784\n",
      "29     841\n",
      "30     900\n",
      "31     961\n",
      "32    1024\n",
      "33    1089\n",
      "34    1156\n",
      "35    1225\n",
      "36    1296\n",
      "37    1369\n",
      "38    1444\n",
      "39    1521\n",
      "40    1600\n",
      "41    1681\n",
      "dtype: int64\n"
     ]
    }
   ],
   "source": [
    "seznam = [i**2 for i in range(10,42)]\n",
    "s1 = pd.Series(seznam)\n",
    "s1.index = [i for i in range(10,42)]\n",
    "print(s1)\n",
    "#"
   ]
  },
  {
   "cell_type": "markdown",
   "metadata": {},
   "source": [
    "### Indeksiranje"
   ]
  },
  {
   "cell_type": "markdown",
   "metadata": {},
   "source": [
    "Izpiši kvadrat števila 21:"
   ]
  },
  {
   "cell_type": "code",
   "execution_count": 5,
   "metadata": {},
   "outputs": [
    {
     "name": "stdout",
     "output_type": "stream",
     "text": [
      "441\n"
     ]
    }
   ],
   "source": [
    "print(s1[21])"
   ]
  },
  {
   "cell_type": "markdown",
   "metadata": {},
   "source": [
    "Popravi indekse zaporedja, da bo na indeksu $i$ kvadrat števila $i$: `s1[i]` $\\rightarrow$ $i^2$:"
   ]
  },
  {
   "cell_type": "code",
   "execution_count": 6,
   "metadata": {},
   "outputs": [],
   "source": [
    "s1.index = seznam"
   ]
  },
  {
   "cell_type": "markdown",
   "metadata": {},
   "source": [
    "Na dva načina izpiši kvadrate števil med 10 in 20 (vključno). Najprej uporabi lastnost `loc`, nato pa še `iloc`."
   ]
  },
  {
   "cell_type": "code",
   "execution_count": 7,
   "metadata": {},
   "outputs": [
    {
     "name": "stdout",
     "output_type": "stream",
     "text": [
      "100    100\n",
      "121    121\n",
      "144    144\n",
      "169    169\n",
      "196    196\n",
      "225    225\n",
      "256    256\n",
      "289    289\n",
      "324    324\n",
      "361    361\n",
      "400    400\n",
      "dtype: int64\n",
      "100    100\n",
      "121    121\n",
      "144    144\n",
      "169    169\n",
      "196    196\n",
      "225    225\n",
      "256    256\n",
      "289    289\n",
      "324    324\n",
      "361    361\n",
      "400    400\n",
      "dtype: int64\n"
     ]
    }
   ],
   "source": [
    "print(s1.iloc[0:11])\n",
    "print(s1.loc[10**2:20**2])"
   ]
  },
  {
   "cell_type": "markdown",
   "metadata": {},
   "source": [
    "Izpiši kvadrate sodih števil iz zaporedja. Rezultat pretvori v Pythonovski seznam:"
   ]
  },
  {
   "cell_type": "code",
   "execution_count": 8,
   "metadata": {},
   "outputs": [
    {
     "name": "stdout",
     "output_type": "stream",
     "text": [
      "100      100\n",
      "144      144\n",
      "196      196\n",
      "256      256\n",
      "324      324\n",
      "400      400\n",
      "484      484\n",
      "576      576\n",
      "676      676\n",
      "784      784\n",
      "900      900\n",
      "1024    1024\n",
      "1156    1156\n",
      "1296    1296\n",
      "1444    1444\n",
      "1600    1600\n",
      "dtype: int64\n",
      "[100, 144, 196, 256, 324, 400, 484, 576, 676, 784, 900, 1024, 1156, 1296, 1444, 1600]\n"
     ]
    }
   ],
   "source": [
    "sodi = s1.iloc[::2]\n",
    "print(sodi)\n",
    "seznam2 = sodi.index.tolist()\n",
    "print(seznam2)"
   ]
  },
  {
   "cell_type": "markdown",
   "metadata": {},
   "source": [
    "### Tipi elementov\n",
    "#### Kategorije\n"
   ]
  },
  {
   "cell_type": "markdown",
   "metadata": {},
   "source": [
    "Ustvari zaporedje vsaj 15 hišnih ljubljenčkov `ljubljencki` (npr. pes, mačka, hrček, pes, papagaj, hrček, ...) - pomagaj si z naključnim vzorčenjem. Zaporedje izpiši. Kakšnega tipa so vrednosti?"
   ]
  },
  {
   "cell_type": "code",
   "execution_count": 9,
   "metadata": {},
   "outputs": [
    {
     "name": "stdout",
     "output_type": "stream",
     "text": [
      "0       macka\n",
      "1     papagaj\n",
      "2       hrcek\n",
      "3     papagaj\n",
      "4     papagaj\n",
      "5         pes\n",
      "6       hrcek\n",
      "7       hrcek\n",
      "8         pes\n",
      "9     papagaj\n",
      "10        pes\n",
      "11      hrcek\n",
      "12        pes\n",
      "13      macka\n",
      "14    papagaj\n",
      "15    papagaj\n",
      "dtype: object\n"
     ]
    }
   ],
   "source": [
    "hisni_ljubljencki = ['pes','macka','hrcek','papagaj']\n",
    "zap = pd.Series([random.choice(hisni_ljubljencki) for _ in range(16)])\n",
    "print(zap)\n",
    "\n",
    "#vrednosti so tipa string\n"
   ]
  },
  {
   "cell_type": "markdown",
   "metadata": {},
   "source": [
    "Kaj se zgodi sedaj, če poskusimo na 8. mesto vpisati neveljavno vrsto hišnega ljubljenčka (npr. `\"peš\"`)?"
   ]
  },
  {
   "cell_type": "code",
   "execution_count": 10,
   "metadata": {},
   "outputs": [
    {
     "name": "stdout",
     "output_type": "stream",
     "text": [
      "0       macka\n",
      "1     papagaj\n",
      "2       hrcek\n",
      "3     papagaj\n",
      "4     papagaj\n",
      "5         pes\n",
      "6       hrcek\n",
      "7       hrcek\n",
      "8         peš\n",
      "9     papagaj\n",
      "10        pes\n",
      "11      hrcek\n",
      "12        pes\n",
      "13      macka\n",
      "14    papagaj\n",
      "15    papagaj\n",
      "dtype: object\n"
     ]
    }
   ],
   "source": [
    "zap[8] = 'peš'\n",
    "print(zap)\n",
    "\n",
    "#nič se ne zgodi\n"
   ]
  },
  {
   "cell_type": "markdown",
   "metadata": {},
   "source": [
    "Ustvari še zaporedje `ljubljencki_kat` tako, da bo nabor možnih vrednosti omejen - zaporedje naj bo kategorija."
   ]
  },
  {
   "cell_type": "code",
   "execution_count": 11,
   "metadata": {},
   "outputs": [],
   "source": [
    "ljubljencki_kat = pd.Series([random.choice(hisni_ljubljencki) for _ in range(16)],dtype=\"category\")"
   ]
  },
  {
   "cell_type": "markdown",
   "metadata": {},
   "source": [
    "Nabor možnih vrednosti pretvori v navaden seznam in ga izpiši."
   ]
  },
  {
   "cell_type": "code",
   "execution_count": 12,
   "metadata": {},
   "outputs": [
    {
     "name": "stdout",
     "output_type": "stream",
     "text": [
      "['hrcek', 'macka', 'papagaj', 'pes']\n"
     ]
    }
   ],
   "source": [
    "seznam = ljubljencki_kat.cat.categories.tolist()\n",
    "print(seznam)"
   ]
  },
  {
   "cell_type": "markdown",
   "metadata": {},
   "source": [
    "Kaj se zgodi sedaj, če poskusimo na 8. mesto vpisati neveljavno vrsto hišnega ljubljenčka (npr. `\"peš\"`)?"
   ]
  },
  {
   "cell_type": "code",
   "execution_count": 13,
   "metadata": {},
   "outputs": [
    {
     "ename": "TypeError",
     "evalue": "Cannot setitem on a Categorical with a new category (peš), set the categories first",
     "output_type": "error",
     "traceback": [
      "\u001b[1;31m---------------------------------------------------------------------------\u001b[0m",
      "\u001b[1;31mTypeError\u001b[0m                                 Traceback (most recent call last)",
      "Cell \u001b[1;32mIn[13], line 1\u001b[0m\n\u001b[1;32m----> 1\u001b[0m \u001b[43mljubljencki_kat\u001b[49m\u001b[43m[\u001b[49m\u001b[38;5;241;43m8\u001b[39;49m\u001b[43m]\u001b[49m \u001b[38;5;241m=\u001b[39m \u001b[38;5;124m'\u001b[39m\u001b[38;5;124mpeš\u001b[39m\u001b[38;5;124m'\u001b[39m\n\u001b[0;32m      3\u001b[0m \u001b[38;5;66;03m#vrne TypeError\u001b[39;00m\n",
      "File \u001b[1;32mc:\\Users\\Aneja\\OneDrive - Univerza v Ljubljani\\Documents\\3. letnik\\pavp\\venv\\Lib\\site-packages\\pandas\\core\\series.py:1327\u001b[0m, in \u001b[0;36mSeries.__setitem__\u001b[1;34m(self, key, value)\u001b[0m\n\u001b[0;32m   1324\u001b[0m \u001b[38;5;28;01mexcept\u001b[39;00m (\u001b[38;5;167;01mTypeError\u001b[39;00m, \u001b[38;5;167;01mValueError\u001b[39;00m, LossySetitemError):\n\u001b[0;32m   1325\u001b[0m     \u001b[38;5;66;03m# The key was OK, but we cannot set the value losslessly\u001b[39;00m\n\u001b[0;32m   1326\u001b[0m     indexer \u001b[38;5;241m=\u001b[39m \u001b[38;5;28mself\u001b[39m\u001b[38;5;241m.\u001b[39mindex\u001b[38;5;241m.\u001b[39mget_loc(key)\n\u001b[1;32m-> 1327\u001b[0m     \u001b[38;5;28;43mself\u001b[39;49m\u001b[38;5;241;43m.\u001b[39;49m\u001b[43m_set_values\u001b[49m\u001b[43m(\u001b[49m\u001b[43mindexer\u001b[49m\u001b[43m,\u001b[49m\u001b[43m \u001b[49m\u001b[43mvalue\u001b[49m\u001b[43m)\u001b[49m\n\u001b[0;32m   1329\u001b[0m \u001b[38;5;28;01mexcept\u001b[39;00m InvalidIndexError \u001b[38;5;28;01mas\u001b[39;00m err:\n\u001b[0;32m   1330\u001b[0m     \u001b[38;5;28;01mif\u001b[39;00m \u001b[38;5;28misinstance\u001b[39m(key, \u001b[38;5;28mtuple\u001b[39m) \u001b[38;5;129;01mand\u001b[39;00m \u001b[38;5;129;01mnot\u001b[39;00m \u001b[38;5;28misinstance\u001b[39m(\u001b[38;5;28mself\u001b[39m\u001b[38;5;241m.\u001b[39mindex, MultiIndex):\n\u001b[0;32m   1331\u001b[0m         \u001b[38;5;66;03m# cases with MultiIndex don't get here bc they raise KeyError\u001b[39;00m\n\u001b[0;32m   1332\u001b[0m         \u001b[38;5;66;03m# e.g. test_basic_getitem_setitem_corner\u001b[39;00m\n",
      "File \u001b[1;32mc:\\Users\\Aneja\\OneDrive - Univerza v Ljubljani\\Documents\\3. letnik\\pavp\\venv\\Lib\\site-packages\\pandas\\core\\series.py:1419\u001b[0m, in \u001b[0;36mSeries._set_values\u001b[1;34m(self, key, value, warn)\u001b[0m\n\u001b[0;32m   1416\u001b[0m \u001b[38;5;28;01mif\u001b[39;00m \u001b[38;5;28misinstance\u001b[39m(key, (Index, Series)):\n\u001b[0;32m   1417\u001b[0m     key \u001b[38;5;241m=\u001b[39m key\u001b[38;5;241m.\u001b[39m_values\n\u001b[1;32m-> 1419\u001b[0m \u001b[38;5;28mself\u001b[39m\u001b[38;5;241m.\u001b[39m_mgr \u001b[38;5;241m=\u001b[39m \u001b[38;5;28;43mself\u001b[39;49m\u001b[38;5;241;43m.\u001b[39;49m\u001b[43m_mgr\u001b[49m\u001b[38;5;241;43m.\u001b[39;49m\u001b[43msetitem\u001b[49m\u001b[43m(\u001b[49m\u001b[43mindexer\u001b[49m\u001b[38;5;241;43m=\u001b[39;49m\u001b[43mkey\u001b[49m\u001b[43m,\u001b[49m\u001b[43m \u001b[49m\u001b[43mvalue\u001b[49m\u001b[38;5;241;43m=\u001b[39;49m\u001b[43mvalue\u001b[49m\u001b[43m,\u001b[49m\u001b[43m \u001b[49m\u001b[43mwarn\u001b[49m\u001b[38;5;241;43m=\u001b[39;49m\u001b[43mwarn\u001b[49m\u001b[43m)\u001b[49m\n\u001b[0;32m   1420\u001b[0m \u001b[38;5;28mself\u001b[39m\u001b[38;5;241m.\u001b[39m_maybe_update_cacher()\n",
      "File \u001b[1;32mc:\\Users\\Aneja\\OneDrive - Univerza v Ljubljani\\Documents\\3. letnik\\pavp\\venv\\Lib\\site-packages\\pandas\\core\\internals\\managers.py:415\u001b[0m, in \u001b[0;36mBaseBlockManager.setitem\u001b[1;34m(self, indexer, value, warn)\u001b[0m\n\u001b[0;32m    411\u001b[0m     \u001b[38;5;66;03m# No need to split if we either set all columns or on a single block\u001b[39;00m\n\u001b[0;32m    412\u001b[0m     \u001b[38;5;66;03m# manager\u001b[39;00m\n\u001b[0;32m    413\u001b[0m     \u001b[38;5;28mself\u001b[39m \u001b[38;5;241m=\u001b[39m \u001b[38;5;28mself\u001b[39m\u001b[38;5;241m.\u001b[39mcopy()\n\u001b[1;32m--> 415\u001b[0m \u001b[38;5;28;01mreturn\u001b[39;00m \u001b[38;5;28;43mself\u001b[39;49m\u001b[38;5;241;43m.\u001b[39;49m\u001b[43mapply\u001b[49m\u001b[43m(\u001b[49m\u001b[38;5;124;43m\"\u001b[39;49m\u001b[38;5;124;43msetitem\u001b[39;49m\u001b[38;5;124;43m\"\u001b[39;49m\u001b[43m,\u001b[49m\u001b[43m \u001b[49m\u001b[43mindexer\u001b[49m\u001b[38;5;241;43m=\u001b[39;49m\u001b[43mindexer\u001b[49m\u001b[43m,\u001b[49m\u001b[43m \u001b[49m\u001b[43mvalue\u001b[49m\u001b[38;5;241;43m=\u001b[39;49m\u001b[43mvalue\u001b[49m\u001b[43m)\u001b[49m\n",
      "File \u001b[1;32mc:\\Users\\Aneja\\OneDrive - Univerza v Ljubljani\\Documents\\3. letnik\\pavp\\venv\\Lib\\site-packages\\pandas\\core\\internals\\managers.py:363\u001b[0m, in \u001b[0;36mBaseBlockManager.apply\u001b[1;34m(self, f, align_keys, **kwargs)\u001b[0m\n\u001b[0;32m    361\u001b[0m         applied \u001b[38;5;241m=\u001b[39m b\u001b[38;5;241m.\u001b[39mapply(f, \u001b[38;5;241m*\u001b[39m\u001b[38;5;241m*\u001b[39mkwargs)\n\u001b[0;32m    362\u001b[0m     \u001b[38;5;28;01melse\u001b[39;00m:\n\u001b[1;32m--> 363\u001b[0m         applied \u001b[38;5;241m=\u001b[39m \u001b[38;5;28;43mgetattr\u001b[39;49m\u001b[43m(\u001b[49m\u001b[43mb\u001b[49m\u001b[43m,\u001b[49m\u001b[43m \u001b[49m\u001b[43mf\u001b[49m\u001b[43m)\u001b[49m\u001b[43m(\u001b[49m\u001b[38;5;241;43m*\u001b[39;49m\u001b[38;5;241;43m*\u001b[39;49m\u001b[43mkwargs\u001b[49m\u001b[43m)\u001b[49m\n\u001b[0;32m    364\u001b[0m     result_blocks \u001b[38;5;241m=\u001b[39m extend_blocks(applied, result_blocks)\n\u001b[0;32m    366\u001b[0m out \u001b[38;5;241m=\u001b[39m \u001b[38;5;28mtype\u001b[39m(\u001b[38;5;28mself\u001b[39m)\u001b[38;5;241m.\u001b[39mfrom_blocks(result_blocks, \u001b[38;5;28mself\u001b[39m\u001b[38;5;241m.\u001b[39maxes)\n",
      "File \u001b[1;32mc:\\Users\\Aneja\\OneDrive - Univerza v Ljubljani\\Documents\\3. letnik\\pavp\\venv\\Lib\\site-packages\\pandas\\core\\internals\\blocks.py:2063\u001b[0m, in \u001b[0;36mEABackedBlock.setitem\u001b[1;34m(self, indexer, value, using_cow)\u001b[0m\n\u001b[0;32m   2060\u001b[0m check_setitem_lengths(indexer, value, values)\n\u001b[0;32m   2062\u001b[0m \u001b[38;5;28;01mtry\u001b[39;00m:\n\u001b[1;32m-> 2063\u001b[0m     \u001b[43mvalues\u001b[49m\u001b[43m[\u001b[49m\u001b[43mindexer\u001b[49m\u001b[43m]\u001b[49m \u001b[38;5;241m=\u001b[39m value\n\u001b[0;32m   2064\u001b[0m \u001b[38;5;28;01mexcept\u001b[39;00m (\u001b[38;5;167;01mValueError\u001b[39;00m, \u001b[38;5;167;01mTypeError\u001b[39;00m):\n\u001b[0;32m   2065\u001b[0m     \u001b[38;5;28;01mif\u001b[39;00m \u001b[38;5;28misinstance\u001b[39m(\u001b[38;5;28mself\u001b[39m\u001b[38;5;241m.\u001b[39mdtype, IntervalDtype):\n\u001b[0;32m   2066\u001b[0m         \u001b[38;5;66;03m# see TestSetitemFloatIntervalWithIntIntervalValues\u001b[39;00m\n",
      "File \u001b[1;32mc:\\Users\\Aneja\\OneDrive - Univerza v Ljubljani\\Documents\\3. letnik\\pavp\\venv\\Lib\\site-packages\\pandas\\core\\arrays\\_mixins.py:261\u001b[0m, in \u001b[0;36mNDArrayBackedExtensionArray.__setitem__\u001b[1;34m(self, key, value)\u001b[0m\n\u001b[0;32m    259\u001b[0m \u001b[38;5;28;01mdef\u001b[39;00m \u001b[38;5;21m__setitem__\u001b[39m(\u001b[38;5;28mself\u001b[39m, key, value) \u001b[38;5;241m-\u001b[39m\u001b[38;5;241m>\u001b[39m \u001b[38;5;28;01mNone\u001b[39;00m:\n\u001b[0;32m    260\u001b[0m     key \u001b[38;5;241m=\u001b[39m check_array_indexer(\u001b[38;5;28mself\u001b[39m, key)\n\u001b[1;32m--> 261\u001b[0m     value \u001b[38;5;241m=\u001b[39m \u001b[38;5;28;43mself\u001b[39;49m\u001b[38;5;241;43m.\u001b[39;49m\u001b[43m_validate_setitem_value\u001b[49m\u001b[43m(\u001b[49m\u001b[43mvalue\u001b[49m\u001b[43m)\u001b[49m\n\u001b[0;32m    262\u001b[0m     \u001b[38;5;28mself\u001b[39m\u001b[38;5;241m.\u001b[39m_ndarray[key] \u001b[38;5;241m=\u001b[39m value\n",
      "File \u001b[1;32mc:\\Users\\Aneja\\OneDrive - Univerza v Ljubljani\\Documents\\3. letnik\\pavp\\venv\\Lib\\site-packages\\pandas\\core\\arrays\\categorical.py:1589\u001b[0m, in \u001b[0;36mCategorical._validate_setitem_value\u001b[1;34m(self, value)\u001b[0m\n\u001b[0;32m   1587\u001b[0m     \u001b[38;5;28;01mreturn\u001b[39;00m \u001b[38;5;28mself\u001b[39m\u001b[38;5;241m.\u001b[39m_validate_listlike(value)\n\u001b[0;32m   1588\u001b[0m \u001b[38;5;28;01melse\u001b[39;00m:\n\u001b[1;32m-> 1589\u001b[0m     \u001b[38;5;28;01mreturn\u001b[39;00m \u001b[38;5;28;43mself\u001b[39;49m\u001b[38;5;241;43m.\u001b[39;49m\u001b[43m_validate_scalar\u001b[49m\u001b[43m(\u001b[49m\u001b[43mvalue\u001b[49m\u001b[43m)\u001b[49m\n",
      "File \u001b[1;32mc:\\Users\\Aneja\\OneDrive - Univerza v Ljubljani\\Documents\\3. letnik\\pavp\\venv\\Lib\\site-packages\\pandas\\core\\arrays\\categorical.py:1614\u001b[0m, in \u001b[0;36mCategorical._validate_scalar\u001b[1;34m(self, fill_value)\u001b[0m\n\u001b[0;32m   1612\u001b[0m     fill_value \u001b[38;5;241m=\u001b[39m \u001b[38;5;28mself\u001b[39m\u001b[38;5;241m.\u001b[39m_unbox_scalar(fill_value)\n\u001b[0;32m   1613\u001b[0m \u001b[38;5;28;01melse\u001b[39;00m:\n\u001b[1;32m-> 1614\u001b[0m     \u001b[38;5;28;01mraise\u001b[39;00m \u001b[38;5;167;01mTypeError\u001b[39;00m(\n\u001b[0;32m   1615\u001b[0m         \u001b[38;5;124m\"\u001b[39m\u001b[38;5;124mCannot setitem on a Categorical with a new \u001b[39m\u001b[38;5;124m\"\u001b[39m\n\u001b[0;32m   1616\u001b[0m         \u001b[38;5;124mf\u001b[39m\u001b[38;5;124m\"\u001b[39m\u001b[38;5;124mcategory (\u001b[39m\u001b[38;5;132;01m{\u001b[39;00mfill_value\u001b[38;5;132;01m}\u001b[39;00m\u001b[38;5;124m), set the categories first\u001b[39m\u001b[38;5;124m\"\u001b[39m\n\u001b[0;32m   1617\u001b[0m     ) \u001b[38;5;28;01mfrom\u001b[39;00m \u001b[38;5;28;01mNone\u001b[39;00m\n\u001b[0;32m   1618\u001b[0m \u001b[38;5;28;01mreturn\u001b[39;00m fill_value\n",
      "\u001b[1;31mTypeError\u001b[0m: Cannot setitem on a Categorical with a new category (peš), set the categories first"
     ]
    }
   ],
   "source": [
    "ljubljencki_kat[8] = 'peš'\n",
    "\n",
    "#vrne TypeError"
   ]
  },
  {
   "cell_type": "markdown",
   "metadata": {},
   "source": [
    "Odstrani eno izmed vrednosti kategorije (npr. papagaj). Kaj se zgodi s papagaji v zaporedju?"
   ]
  },
  {
   "cell_type": "code",
   "execution_count": 14,
   "metadata": {},
   "outputs": [
    {
     "name": "stdout",
     "output_type": "stream",
     "text": [
      "0     hrcek\n",
      "1     macka\n",
      "2     macka\n",
      "3     hrcek\n",
      "4       NaN\n",
      "5       pes\n",
      "6       NaN\n",
      "7     hrcek\n",
      "8     hrcek\n",
      "9       pes\n",
      "10      NaN\n",
      "11    macka\n",
      "12      pes\n",
      "13    macka\n",
      "14      NaN\n",
      "15    hrcek\n",
      "dtype: category\n",
      "Categories (3, object): ['hrcek', 'macka', 'pes']\n"
     ]
    }
   ],
   "source": [
    "ljubljencki_kat = ljubljencki_kat.cat.remove_categories('papagaj')\n",
    "print(ljubljencki_kat)"
   ]
  },
  {
   "cell_type": "markdown",
   "metadata": {},
   "source": [
    "Dodaj novo vrednost kategorije (npr. zlata ribica). Zapiši zlato ribico na mesto, kjer je bil prej papagaj (oziroma pripadnik izbrisane kategorije)."
   ]
  },
  {
   "cell_type": "code",
   "execution_count": 15,
   "metadata": {},
   "outputs": [
    {
     "name": "stdout",
     "output_type": "stream",
     "text": [
      "0            hrcek\n",
      "1            macka\n",
      "2            macka\n",
      "3            hrcek\n",
      "4     zlata ribica\n",
      "5              pes\n",
      "6     zlata ribica\n",
      "7            hrcek\n",
      "8            hrcek\n",
      "9              pes\n",
      "10    zlata ribica\n",
      "11           macka\n",
      "12             pes\n",
      "13           macka\n",
      "14    zlata ribica\n",
      "15           hrcek\n",
      "dtype: category\n",
      "Categories (4, object): ['hrcek', 'macka', 'pes', 'zlata ribica']\n"
     ]
    }
   ],
   "source": [
    "ljubljencki_kat = ljubljencki_kat.cat.add_categories('zlata ribica')\n",
    "ljubljencki_kat = ljubljencki_kat.fillna('zlata ribica')\n",
    "print(ljubljencki_kat)"
   ]
  },
  {
   "cell_type": "markdown",
   "metadata": {},
   "source": [
    "#### Urejene kategorije"
   ]
  },
  {
   "cell_type": "markdown",
   "metadata": {},
   "source": [
    "Ustvari zaporedje `ocene`, ki vsebuje 20 naključnih števil med 20 in 100."
   ]
  },
  {
   "cell_type": "code",
   "execution_count": 16,
   "metadata": {},
   "outputs": [
    {
     "name": "stdout",
     "output_type": "stream",
     "text": [
      "0     62\n",
      "1     32\n",
      "2     51\n",
      "3     50\n",
      "4     99\n",
      "5     67\n",
      "6     61\n",
      "7     97\n",
      "8     84\n",
      "9     58\n",
      "10    91\n",
      "11    44\n",
      "12    51\n",
      "13    78\n",
      "14    68\n",
      "15    51\n",
      "16    28\n",
      "17    48\n",
      "18    50\n",
      "19    66\n",
      "dtype: int64\n"
     ]
    }
   ],
   "source": [
    "ocene = pd.Series([random.randint(20,100) for _ in range(20)])\n",
    "print(ocene)"
   ]
  },
  {
   "cell_type": "markdown",
   "metadata": {},
   "source": [
    "Ocene predstavljajo doseženo število točk na testu v osnovni šoli. Kriterij za pretvorbo odstotkov v oceno je sledeč:\n",
    "\n",
    "0% – 49,5% = nezadostno \\\n",
    "50% – 60,5% = zadostno \\\n",
    "61% – 75,5% = dobro \\\n",
    "76% – 89,5 % = prav dobro \\\n",
    "90% – 100% = odlično\n",
    "\n",
    "Ustvari novo zaporedje `ocene`, kjer so ocene predstavljene kot kategorija z možnimi vrednostmi odlično, prav dobro, dobro, zadostno in nezadostno. Vrednosti kategorije naj bodo urejene: nezadostno < zadostno < dobro < prav dobro < odlično.\n",
    "\n",
    "_Namig: najprej definiraj seznama z mejami in imeni ocen._"
   ]
  },
  {
   "cell_type": "code",
   "execution_count": 17,
   "metadata": {},
   "outputs": [
    {
     "name": "stdout",
     "output_type": "stream",
     "text": [
      "0          dobro\n",
      "1     nezadostno\n",
      "2       zadostno\n",
      "3       zadostno\n",
      "4        odlično\n",
      "5          dobro\n",
      "6          dobro\n",
      "7        odlično\n",
      "8     prav dobro\n",
      "9       zadostno\n",
      "10       odlično\n",
      "11    nezadostno\n",
      "12      zadostno\n",
      "13    prav dobro\n",
      "14         dobro\n",
      "15      zadostno\n",
      "16    nezadostno\n",
      "17    nezadostno\n",
      "18      zadostno\n",
      "19         dobro\n",
      "dtype: object\n"
     ]
    },
    {
     "name": "stderr",
     "output_type": "stream",
     "text": [
      "C:\\Users\\Aneja\\AppData\\Local\\Temp\\ipykernel_10776\\1096201151.py:6: FutureWarning: Setting an item of incompatible dtype is deprecated and will raise an error in a future version of pandas. Value 'dobro' has dtype incompatible with int64, please explicitly cast to a compatible dtype first.\n",
      "  ocene.iloc[idx] = ime_ocene[i]\n"
     ]
    }
   ],
   "source": [
    "meje = [49.5,60.5,75.5,89.5,100]\n",
    "ime_ocene = ['nezadostno','zadostno','dobro','prav dobro','odlično']\n",
    "for idx, oc in enumerate(ocene):\n",
    "    for i in range(len(meje)):\n",
    "        if oc <= meje[i]:\n",
    "            ocene.iloc[idx] = ime_ocene[i]\n",
    "            break\n",
    "\n",
    "print(ocene)"
   ]
  },
  {
   "cell_type": "markdown",
   "metadata": {},
   "source": [
    "#### Časovne točke"
   ]
  },
  {
   "cell_type": "markdown",
   "metadata": {},
   "source": [
    "Ustvari podatkovno zaporedje `datumi_izpitov`, ki vsebuje datume izpitov pri predmetu Podatkovna analiza in pravno varstvo podatkov podane v spodnji obliki:\n",
    "\n",
    "* `\"28012025\"`\n",
    "* `\"13062025\"`\n",
    "* `\"02092025\"`\n",
    "\n",
    "Zaporedje pretvori v časovno zaporedje - `datetime` (pomagaj si s funkcijo `to_datetime` iz paketa `pandas`).\n",
    "Ker je zapis datuma lahko dvoumen in ga pandas morda ne zna ali ne more pravilno ugotoviti (glej opozorilo, ki ga dobiš, ko zaporedje poskusiš pretvoriti v časovni tip - `datetime`), pazljivo nastavi format zapisa datuma.\n",
    "\n",
    "_Namig: glej dokumentacijo za [to_datetime](https://pandas.pydata.org/docs/reference/api/pandas.to_datetime.html) in [zapisovanje časovnih formatov](https://docs.python.org/3/library/datetime.html#strftime-and-strptime-behavior)_\n"
   ]
  },
  {
   "cell_type": "markdown",
   "metadata": {},
   "source": [
    "Izpiši dan, mesec in leto prvega izpitnega roka, da preveriš pravilnost nastavljenega formata:"
   ]
  },
  {
   "cell_type": "markdown",
   "metadata": {},
   "source": [
    "Ustvari časovno zaporedje `datumi_vaj`, ki vsebuje vse srede od začetka do konca zimskega semestra. Izpiši dan v letu za 5. sredo semestra."
   ]
  },
  {
   "cell_type": "markdown",
   "metadata": {},
   "source": [
    "Dan je seznam tem `teme_sez`, ki pripadajo posameznim tednom vaj:"
   ]
  },
  {
   "cell_type": "code",
   "execution_count": null,
   "metadata": {},
   "outputs": [],
   "source": [
    "teme_sez = [\n",
    "    None,\n",
    "    \"Ponovitev Pythona\", \n",
    "    \"Podatkovna zaporedja\",\n",
    "    \"Podatkovni okvirji\",\n",
    "    \"Uvoz podatkov\",\n",
    "    \"Neurejeni podatki s spleta\",\n",
    "    \"Analiza podatkov\",\n",
    "    \"Vizualizacija 1\", \n",
    "    \"Vizualizacija 2\", \n",
    "    \"Prostorski podatki\",\n",
    "    \"Pravo 1\", \n",
    "    \"Pravo 2\", \n",
    "    None,\n",
    "    None,\n",
    "    \"Pravo 3\", \n",
    "    \"Pravo 4\", \n",
    "]"
   ]
  },
  {
   "cell_type": "markdown",
   "metadata": {},
   "source": [
    "Ustvari zaporedje tem, ki ima za indeks datume iz časovnega zaporedja `datumi_vaj`. Izpiši teme, ki so planirane za november."
   ]
  },
  {
   "cell_type": "markdown",
   "metadata": {},
   "source": [
    "## Še nekaj nalog za vajo"
   ]
  },
  {
   "cell_type": "markdown",
   "metadata": {},
   "source": [
    "Za vajo reši še naslednje naloge. Postopek po potrebi komentiraj (da boš čez $x$ tednov vedel, kaj se v postopku dogaja). Pri tem si pomagaj s celicami tipa Markdown (za osnovno urejanje se lahko zgleduješ po celicah z navodili nalog, sicer pa je najboljša referenca internet 🙂).\n",
    "\n",
    "1. Denimo, da smo Alešu, Barbari, Cirilu in Darji izmerili višine v centimetrih (180, 165, 160, 193) in teže v kilogramih (87, 58, 65, 100). Naredi dve zaporedji `v` in `t` z izmerjenimi podatki. Indeks telesne mase (ITM) izračunamo po formuli\n",
    "\n",
    "    $$ \\text{ITM} = \\frac{\\text{teža v kilogramih}}{(\\text{višina v metrih})^2}. $$\n",
    "\n",
    "    Izračunaj zaporedje vrednosti ITM s poimenovanimi indeski za štiri osebe, kjer so indeksi elementov dejanska imena oseb (Aleš, Barbara, Ciril in Darja). Nato izračunaj zaporedje naravnih logaritmov vrednosti ITM. Na koncu izpiši zaporedje imen oseb, ki imajo ITM večji od 25, ter izračunaj njihov povprečni ITM.\n",
    "\n",
    "2. Sestavi zaporedja z naslednjimi elementi:\n",
    "\n",
    "    * $3^1/1, 3^2/2, \\ldots, 3^{50}/50$;\n",
    "    * \"A1\", \"A2\", $\\ldots$, \"A50\";\n",
    "    * $e^x \\sin x$ izračunanimi v točkah $x = 3, 3.1, 3.2, \\ldots, 6$.\n",
    "\n",
    "    Zaporedjem nastavi ustrezne indekse.\n",
    "\n",
    "3. Z uporabo zaporedij definiraj funkcijo, ki kot argument sprejme naravno število `x > 2`, vrne rezultat `True`, če je `x` praštevilo, in `False` sicer. Funkcijo ustrezno testiraj.\n",
    "\n",
    "    _Namig: zaporedje gradi postopoma. Najprej izračunaj zaporedje ostankov deljenja `x` z vsemi števili od `2` do `x - 1`. Kaj nam elementi dobljenega zaporedja povejo o praštevilskosti števila `x`?_\n",
    "\n",
    "4. Sestavi zaporedje tipa kategorija s tremi možnimi vrednostmi `A`, `B` in `C`, ki bo vsebovalo po natanko pet (5) vrednosti iz vsake kategorije. Vrednosti naj nastopajo v zaporedju v naključnem vrstnem redu.\n",
    "\n",
    "5. Pri ocenjevanju izpitov na FMF pogosto uporabljamo odstotne točke. Študentka lahko doseže poljubno število odstotnih točk od 0 do 100 (obe meji vključeni). Nato njen dosežek prevedemo v oceno takole:\n",
    "\n",
    "    | dosežek v % | ocena |\n",
    "    |---|---|\n",
    "    | več kot 90 | odlično (10) |\n",
    "    | več kot 80 in največ 90 | prav dobro (9) |\n",
    "    | več kot 70 in največ 80 | prav dobro (8) |\n",
    "    | več kot 60 in največ 70 | dobro (7) |\n",
    "    | več kot 50 in največ 60 | zadostno (6) |\n",
    "    | največ 50 | nezadostno (5) |\n",
    "    \n",
    "    * Sestavi zaporedje `ot` z desetimi naključnimi celoštevilskimi dosežki študentov v odstotnih točkah.\n",
    "    * Pretvori zaporedje `ot` v zaporedje `ocena` tipa urejena kategorija, na osnovi prevajalne tabele zgoraj.\n",
    "\n",
    "6. Definiraj funkcijo, ki za podano leto vrne zaporedje vseh ponedeljkovih datumov v tem letu. Definiraj bolj splošno funkcijo, ki poleg leta, sprejme tudi dan v tednu kot argument.\n",
    "\n",
    "7. Definiraj funkcijo, ki za podano leto in pozitivni naravni števili `od` in `do` vrne vse datume v tednih `od`, `od + 1`, ..., `do` v podanem letu."
   ]
  }
 ],
 "metadata": {
  "kernelspec": {
   "display_name": "venv",
   "language": "python",
   "name": "python3"
  },
  "language_info": {
   "codemirror_mode": {
    "name": "ipython",
    "version": 3
   },
   "file_extension": ".py",
   "mimetype": "text/x-python",
   "name": "python",
   "nbconvert_exporter": "python",
   "pygments_lexer": "ipython3",
   "version": "3.12.2"
  }
 },
 "nbformat": 4,
 "nbformat_minor": 2
}
